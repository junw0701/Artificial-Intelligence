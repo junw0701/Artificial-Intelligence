{
 "cells": [
  {
   "cell_type": "markdown",
   "id": "e48bad3d-97c0-4fea-894a-e0fbb1ebb9c9",
   "metadata": {},
   "source": [
    "# 조건문"
   ]
  },
  {
   "cell_type": "markdown",
   "id": "d2951871-de61-42a5-bfda-835786d1c196",
   "metadata": {},
   "source": [
    "본 실습에서는 Python에서 조건문의 사용 방법을 알아봅니다."
   ]
  },
  {
   "cell_type": "markdown",
   "id": "ebe7d642-384c-4ee5-a7ed-90bddb0b27e5",
   "metadata": {},
   "source": [
    "## Keybord input"
   ]
  },
  {
   "cell_type": "markdown",
   "id": "23987059-e505-4064-be7b-709ec8b8e61f",
   "metadata": {},
   "source": [
    "조건문을 알아보기 전에 원활한 실습을 위해 키보드에서 값을 입력하는 방법을 먼저 알아보겠습니다.<br>\n",
    "모든 프로그래밍 언어들은 입력을 위한 기능들이 있습니다.<br>\n",
    "Python에도 키보드 입력을 위한 내장함수(Built-in function)을 제공합니다.<br>\n",
    "Python에서 제공하는 키보드 입력 합수는 ``input()`` 함수입니다.<br>\n",
    "``input()`` 함수는 유저가 문자열을 입력하고 ``<Enter>``키를 누를 때까지 대기합니다.<br>\n",
    "입력이 끝나면 입력한 <b>문자열(string)</b>을 반환합니다.(참고로 ``string``에 대한 내용은 나중에 배울 예정입니다) <br>\n",
    "\n",
    "아래 입력창에 다음 코드를 작성하여 ``input()``함수의 기능을 알아봅니다.\n",
    "\n",
    "```python\n",
    "text = input()\n",
    "```"
   ]
  },
  {
   "cell_type": "code",
   "execution_count": null,
   "id": "9470d9f1-546a-4a62-9418-2598d8343d79",
   "metadata": {},
   "outputs": [],
   "source": []
  },
  {
   "cell_type": "markdown",
   "id": "35072b83-2196-4f7a-b724-4816c4ce36e4",
   "metadata": {},
   "source": [
    "위에서는 키보드 입력하기 전에 그냥 커서만 깜빡이고 있죠?<br>\n",
    "어떤 값을 입력해야 할지 메시지를 출력한 후 입력 받으면 더 좋을 것 같습니다.<br>\n",
    "\n",
    "아래 입력창에 다음 코드를 작성하여 위의 내용과 어떻게 다른지 차이점을 알아봅니다.\n",
    "\n",
    "```python\n",
    "name = input(\"What's your name? \")\n",
    "```"
   ]
  },
  {
   "cell_type": "code",
   "execution_count": null,
   "id": "ad055633-6a8b-49d6-9770-819c231c5526",
   "metadata": {},
   "outputs": [],
   "source": []
  },
  {
   "cell_type": "markdown",
   "id": "0c1dab55-5d81-4545-91d5-ec27bb6fbe36",
   "metadata": {},
   "source": [
    "차이점을 눈치챘나요?<br>\n",
    "네, 그렇습니다. 입력하기 전에 메시지가 출력됩니다.<br>\n",
    "위에서 입력한 문자열은 ``name`` 변수에 저장됩니다.<br>\n",
    "실제로 입력한 문자열이 ``name``에 저장되었는지 출력하여 알아봅니다.<br>\n",
    "\n",
    "아래 코드를 작성하고 결과를 알아봅니다.<br>\n",
    "\n",
    "```python\n",
    "print('Your name is', name)\n",
    "```"
   ]
  },
  {
   "cell_type": "code",
   "execution_count": null,
   "id": "426761f0-fda8-4298-850b-578883a339a6",
   "metadata": {},
   "outputs": [],
   "source": []
  },
  {
   "cell_type": "markdown",
   "id": "f3a6d674-6242-4b4d-9310-4d82f0901aee",
   "metadata": {},
   "source": [
    "여러분들이 입력한 이름이 제대로 출력되고 있나요?<br>\n",
    "이번에는 메시지를 변수에 먼저 할당하고 입력 받는 방법을 살펴보겠습니다.<br>\n",
    "\n",
    "아래 입력창에 다음 코드를 작성하여 그 결과를 알아봅니다.<br>\n",
    "\n",
    "```python\n",
    "prompt = 'How old are you?\\n'\n",
    "age = int(input(prompt))\n",
    "```"
   ]
  },
  {
   "cell_type": "code",
   "execution_count": null,
   "id": "56f61dba-4bbd-4f30-ae12-9e471ac30ce4",
   "metadata": {},
   "outputs": [],
   "source": []
  },
  {
   "cell_type": "markdown",
   "id": "046a0801-9f07-4dbb-918c-81722a471d7e",
   "metadata": {},
   "source": [
    "여러분들의 나이를 입력하였나요?<br>\n",
    "그런데, 여기서 ``int()``함수가 왜 사용되었는지 궁금할 겁니다.<br>\n",
    "``input()``함수에서 리턴되는 값은 ``문자열``이라는 것을 기억하고 있겠죠?<br>\n",
    "나이는 정수이기 때문에 입력한 문자열을 ``int``로 형변환(typecast) 해야합니다.<br>\n",
    "그래서 ``input(prompt)``을 처리한 후 그 결과를 ``int()``함수를 이용하여 형변환을 하고 있습니다.<br>\n",
    "\n",
    "아래 입력창에 다음 코드를 작성하여 그 결과를 알아봅니다.\n",
    "```python\n",
    "print(\"I'm\", age, \"years old!!\")\n",
    "\n",
    "```"
   ]
  },
  {
   "cell_type": "code",
   "execution_count": null,
   "id": "c6cedb45-d332-488b-b854-4ec983619634",
   "metadata": {},
   "outputs": [],
   "source": []
  },
  {
   "cell_type": "markdown",
   "id": "164cf68e-ed1a-4669-b3a1-bbff569e7246",
   "metadata": {},
   "source": [
    "## Floor division"
   ]
  },
  {
   "cell_type": "markdown",
   "id": "8acd6104-4892-455d-a031-8d20b442a146",
   "metadata": {},
   "source": [
    "조건문을 알아보기 전에 나눗셈의 몫과 나머지를 계산하는 연산자를 알아보겠습니다.<br>\n",
    "나눗셈의 몫과 나머지 계산은 유용할 때가 있습니다.<br>\n",
    "가령 주어진 수가 짝수인지 홀수인지를 판별할 때 2로 나눈 나머지가 0이면 짝수, 1이면 홀수로 판별할 수 있습니다.<br>\n",
    "또는 십진수에서 1의 자리 수가 무엇인지를 알아낼 때에도 10으로 나눈 나머지를 계산하여 알아낼 수 있습니다.<br>\n",
    "그러면 먼저 몫을 계산하는 연산자를 살펴보겠습니다.<br>\n",
    "\n",
    "``Floor division(몫, 정수나눗셈)``은 나눗셈을 할 때 몫의 값입니다.<br>\n",
    "즉, 나눗셈 결과에서 소수점 이하를 버린 정수입니다.<br>\n",
    "파이썬에서 Floor division 연산자는 ``//``입니다.<br>\n",
    "사용 방법은 아래와 같습니다.<br>\n",
    "```python\n",
    "minutes = 105\n",
    "hours = minutes // 60\n",
    "print(hours)\n",
    "```\n",
    "아래 입력창에 위의 코드를 입력하여 결과가 어떻게 나오는지 경험해 봅니다."
   ]
  },
  {
   "cell_type": "code",
   "execution_count": null,
   "id": "8f976a6f-d229-48af-a937-e0f95aeb680d",
   "metadata": {},
   "outputs": [],
   "source": []
  },
  {
   "cell_type": "markdown",
   "id": "916845d7-a49d-4fd8-a9a6-fe7ea8acbfde",
   "metadata": {},
   "source": [
    "## Modulus"
   ]
  },
  {
   "cell_type": "markdown",
   "id": "7269bb0a-0118-48c6-bf3f-9dcb0331d41f",
   "metadata": {},
   "source": [
    "``Modulus``는 나눗셈에서 나머지 값입니다.<br>\n",
    "Python에서 Modulus 연산자는 ``%``입니다.\n",
    "사용 방법은 아래와 같습니다.\n",
    "```python\n",
    "minutes = 105\n",
    "remainder = minutes % 60\n",
    "print(remainder)\n",
    "```\n",
    "아래 입력창에 위의 코드를 입력하여 결과가 어떻게 나오는지 경험해 봅니다."
   ]
  },
  {
   "cell_type": "code",
   "execution_count": null,
   "id": "41359224-b316-4d2c-a8c9-2e5861223471",
   "metadata": {},
   "outputs": [],
   "source": []
  },
  {
   "cell_type": "markdown",
   "id": "31e58e3f-a5b8-4d3a-8484-aebc11ba08cc",
   "metadata": {},
   "source": [
    "## Boolean 타입 이해하기"
   ]
  },
  {
   "cell_type": "markdown",
   "id": "36a98fdf-90e1-436a-afb4-28f4653eaaf7",
   "metadata": {},
   "source": [
    "``Boolean`` 타입은 참(``True``) 인지 거짓(``False``)인지를 다루는 수학인 이산수학(discrete mathmatics)를 지원하기 위한 타입입니다.<br>\n",
    "``Boolean`` 타입은 정수, 실수 및 문자열이 값을 저장하고 계산하는데 활용하는 반면, ``True`` 혹은 ``False``를 저장한다는 점에서만 차이가 있습니다.<br>\n",
    "\n",
    "아래의 입력창에, 다음의 코드처럼, 변수 X와 Y를 만들고 각각 ``True``와 ``False`` 값을 주고, ``Boolean`` 타입 값을 확인해 봅니다.\n",
    "\n",
    "```python\n",
    "X = True\n",
    "Y = False\n",
    "\n",
    "print(X, Y)\n",
    "```"
   ]
  },
  {
   "cell_type": "code",
   "execution_count": null,
   "id": "7c59eb84-1a78-4d98-ae82-96089df43edf",
   "metadata": {},
   "outputs": [],
   "source": []
  },
  {
   "cell_type": "markdown",
   "id": "974dea09-d866-4f93-8dfc-7ab9ab0bb8ea",
   "metadata": {},
   "source": [
    "## Logical operation(논리연산)"
   ]
  },
  {
   "cell_type": "markdown",
   "id": "a55546ae-9ac9-44f6-86e6-5f76809bda40",
   "metadata": {},
   "source": [
    "논리(logical)적인 관계를 나타내기 위한 수학의 한 분야로서, 대표적인 예제가 ``and``, ``or``, ``not``의 논리 연산(logical operation)입니다.<br>\n",
    "통상 참진리표(truth table)라고 불리우는 아래의 표를 통해서 각각의 기호의 의미를 이해할 수 있습니다.<br>\n",
    "\n",
    "| X | Y | X ``and`` Y | X ``or`` Y | ``not`` X |\n",
    "|:-:|:-:|:-:|:-:|:-:|\n",
    "| True | True | True | True | False |\n",
    "| True | False | False | True | False | \n",
    "| False | True | False | True | True |\n",
    "| False | False | False | False | True |\n",
    "\n",
    "``and`` 논리 연산은 모든 값이 ``True``일때 ``True``를 가지며, ``or`` 논리 연산은 하나라도 ``True``인 값이 있으면 ``True``를 가집니다.<br>\n",
    "``not`` 논리 연산은 주어진 값이 ``True``이면  ``False``로, 주어진 값이  ``False``이면 ``True``로 변환합니다.<br> \n",
    "Boolean 연산은 소프트웨어에서 조건적인 상황을 검사할때 주로 사용되는 개념입니다.<br>\n",
    "\n",
    "아래의 입력창에, 다음의 코드처럼, 변수 X와 Y를 만들고 각각 ``True``와 ``False`` 값을 주고, 논리 연산자를 실행해 봅니다.\n",
    "\n",
    "```python\n",
    "X = True\n",
    "Y = False\n",
    "\n",
    "print(X, Y)\n",
    "print(X and Y, X or Y, not X)\n",
    "```"
   ]
  },
  {
   "cell_type": "code",
   "execution_count": null,
   "id": "9407ce29-bf89-422c-87aa-e83b5d73745a",
   "metadata": {},
   "outputs": [],
   "source": []
  },
  {
   "cell_type": "markdown",
   "id": "fd8a76e6-f1f1-4ea8-98fd-d91e313bd0fc",
   "metadata": {},
   "source": [
    "## Relational operation (관계연산)"
   ]
  },
  {
   "cell_type": "markdown",
   "id": "cbea93fb-d650-4f4d-8e2b-61cf4a115dea",
   "metadata": {},
   "source": [
    "프로그램을 작성하다보면 두개의 값 사이의 관계를 판단해야할 경우가 있습니다.<br>\n",
    "가령 주어진 수 x가 양수인지를 알아보려면 ``(x >= 0)``인지를 검사하여 판단할 수 있습니다.<br>\n",
    "이와 같이 ``크다``, ``작다``, ``같다``, ``다르다`` 등을 판별할 때 사용되는 연산이 관계연산입니다.<br>\n",
    "관계연산의 결과는 ``True`` 또는 ``False``입니다.<br>\n",
    "관계연산은 소프트웨어에서 조건을 검사할 때 많이 사용되는 개념입니다.<br>\n",
    "\n",
    "아래의 입력창에, 다음 코드를 작성하여 관계연산자를 실행해 봅니다.\n",
    "\n",
    "```python\n",
    "x = 15\n",
    "y = 25\n",
    "x == y   # False\n",
    "x != y   # True\n",
    "x > y    # False\n",
    "x < y    # True\n",
    "x >= y   # False\n",
    "x <= y   # True\n",
    "```"
   ]
  },
  {
   "cell_type": "code",
   "execution_count": null,
   "id": "395f3388-20e8-462a-bee8-471f3e2fc831",
   "metadata": {},
   "outputs": [],
   "source": []
  },
  {
   "cell_type": "markdown",
   "id": "f3ac8300-8f2b-417a-ad2e-10898fb2826d",
   "metadata": {},
   "source": [
    "## Combine relation operation with logical operation"
   ]
  },
  {
   "cell_type": "markdown",
   "id": "bc72c536-03db-435f-96b2-4c3896076b10",
   "metadata": {},
   "source": [
    "논리연산과 관계연산이 같이 사용되는 경우가 많이 있습니다.<br>\n",
    "주어진 ``x의 값이 10 이상이고 20 이하``인지를 판별하는 경우를 생각해 봅시다.<br>\n",
    "1. 먼저 x의 값이 10보다 크거나 같은지를 판별하고,<br>\n",
    "2. 다음으로 x의 값이 20 이하인지를 판별하여<br>\n",
    "3. 두 조건이 모두 만족되는 경우에 ``True``가 됩니다.<br>\n",
    "\n",
    "아래의 입력창에 다음 코드를 작성하여 결과를 알아 봅니다.\n",
    "\n",
    "```python\n",
    "x = 15\n",
    "(x >= 10) and (x <= 20)\n",
    "```"
   ]
  },
  {
   "cell_type": "code",
   "execution_count": null,
   "id": "099c7f38-4a84-4937-a035-eb707f7db885",
   "metadata": {},
   "outputs": [],
   "source": []
  },
  {
   "cell_type": "markdown",
   "id": "fe3e089b-166f-4183-afc4-a33055cdcd14",
   "metadata": {},
   "source": [
    "## 조건문 ``if``와 ``else``문"
   ]
  },
  {
   "cell_type": "markdown",
   "id": "fa651023-238d-4369-8c8a-ec564c0b2f7c",
   "metadata": {},
   "source": [
    "대부분의 컴퓨터 프로그래밍 언어에는 조건문(Conditional statement)이 있습니다.<br>\n",
    "조건문은 조건이 참일 때와 그렇지 않을 때 서로 다른 명령을 수행하도록 할 수 있습니다.<br>\n",
    "가령 나눗셈 x/y를 수행할 때 y가 0이 아니면 나눗셈을 계산하고, 0이면 오류 메시지를 출력하하도록 할 수 있습니다.<br>\n",
    "\n",
    "아래 입력창에 다음 코드를 작성하여 결과를 알아 봅니다.\n",
    "\n",
    "```python\n",
    "x = 15\n",
    "y = 0\n",
    "if y != 0:\n",
    "    print(x/y)\n",
    "else:\n",
    "    print(\"Division by zero\")\n",
    "```"
   ]
  },
  {
   "cell_type": "code",
   "execution_count": null,
   "id": "ade807a0-e816-46e1-aa17-3a9944eb97e4",
   "metadata": {},
   "outputs": [],
   "source": []
  },
  {
   "cell_type": "markdown",
   "id": "bfc70dda-a257-4152-880b-a3339013e534",
   "metadata": {},
   "source": [
    "## 조건문 `elif` 문법"
   ]
  },
  {
   "cell_type": "markdown",
   "id": "5a9e8516-7c6d-403e-8211-b2b39c25caf5",
   "metadata": {},
   "source": [
    "세상에 조건이 왼쪽과 오른쪽, 즉 두개의 선택만으로 이루어 지지는 않습니다.<br>\n",
    "예를 들어 화학에서 산도를 측정하여 특성을 정의할 때는 다음과 같은 여러 레벨을 보고 판단하게 됩니다.<br>\n",
    "표는 예를 위한 것이지, 정확한 표가 아니니 참조하기 바랍니다.<br>\n",
    "\n",
    "| pH level | Solution Category |\n",
    "| :-: | :-: |\n",
    "| 0 - 4 | Strong acid |\n",
    "| 5 - 6 | Weak acid |\n",
    "| 7 | Neutral |\n",
    "| 8 - 9 | Weak base |\n",
    "| 10 - 14 | Strong base |\n",
    "\n",
    "그러면 사용자로부터 산도를 키보드로 부터 입력 받으후, 이 다섯 중 하나를 선택하는 프로그램은 어떻게 만들수 있을까요?<br>\n",
    "먼저 if 구문만으로 만든다면 다음 처럼 만드는 것이 가능합니다.<br>\n",
    "\n",
    "```python\n",
    "phInput = int(input(\"Enter the pH level (integer, 0...14): \"))\n",
    "\n",
    "if (phInput >= 0) and (phInput <=4):\n",
    "    print(\"Strong acid\")\n",
    "    \n",
    "if (phInput >= 5) and (phInput <=6):\n",
    "    print(\"Weak acid\")\n",
    "\n",
    "if (phInput == 7):\n",
    "    print(\"Neutral\")\n",
    "\n",
    "if (phInput >= 8) and (phInput <=9):\n",
    "    print(\"Weak base\")\n",
    "\n",
    "if (phInput >= 10) and (phInput <=14):\n",
    "    print(\"Strong base\")\n",
    "```\n",
    "\n",
    "아래의 입력창에, 코드를 입력하고 실행하여 어떻게 동작하는지 직접 경험해 봅니다.<br>"
   ]
  },
  {
   "cell_type": "code",
   "execution_count": null,
   "id": "7ae1a276-c717-4ac0-8b47-f259847e46fa",
   "metadata": {},
   "outputs": [],
   "source": []
  },
  {
   "cell_type": "markdown",
   "id": "dd862085-2b5d-44c1-9259-741b449fae62",
   "metadata": {},
   "source": [
    "그런데, 이 프로그램을 자세히 바라보면 이런 생각이 듭니다.<br>\n",
    "첫번째 조건문에 맞으면 화면에 출력을 할텐데, 그럼에도 다음 조건문들을 모두 비교해야 할테고, 이러면서 시간도 버리고 컴퓨터도 쓸데없는 일을 한다는...<br>\n",
    "이런 생각은 맞습니다 - 결국 컴퓨터는 조건에 맞는 경우 해당 조건의 작업만 하면 되는데, 지금은 모든 if 구문을 수행하느라 시간과 자원을 낭비합니다.<br>\n",
    "이럴때 사용하는 문장이 ``elif`` 문법입니다.<br>\n",
    "사실 ``elif``는 줄임말이며 풀어서 쓰면 else-if 라는 의미입니다.<br>\n",
    "앞서 조건문이 맞지 않아서 else 구문에 온 상태이므로, 다시 한번 조건을 검사해 보자는 의미인 것입니다.<br>\n",
    "그렇다면, ``if`` 구문 만으로 작성한 위의 프로그램을 ``elif``로 바꾸면 어떻게 되는지 아래의 변경된 코드를 살펴봅니다.<br>\n",
    "\n",
    "```python\n",
    "phInput = int(input(\"Enter the pH level (integer, 0...14): \"))\n",
    "\n",
    "if (phInput >= 0) and (phInput <=4):\n",
    "    print(\"Strong acid\")\n",
    "elif (phInput >= 5) and (phInput <=6):\n",
    "    print(\"Weak acid\")\n",
    "elif (phInput == 7):\n",
    "    print(\"Neutral\")\n",
    "elif (phInput >= 8) and (phInput <=9):\n",
    "    print(\"Weak base\")\n",
    "elif (phInput >= 10) and (phInput <=14):\n",
    "    print(\"Strong base\")\n",
    "else:\n",
    "    print(\"Not matched\")\n",
    "```\n",
    "\n",
    "아래의 입력창에, 코드를 입력하고 실행하여 어떻게 동작하는지 직접 경험해 봅니다.<br>"
   ]
  },
  {
   "cell_type": "code",
   "execution_count": null,
   "id": "1e84a8d4-31f8-447b-ac4f-7b4587483d04",
   "metadata": {},
   "outputs": [],
   "source": []
  },
  {
   "cell_type": "markdown",
   "id": "d8c9bbaa-24ea-4314-8143-111138ed02d5",
   "metadata": {},
   "source": [
    "위의 개선된 프로그램에서 볼 수 있듯이, 이제는 앞의 조건에 부합하면 뒤의 조건은 검사를 하지 않으므로 프로그램이 효율적으로 동작합니다.<br>\n",
    "더불어 잘못된 입력에 대한 처리도 ``else`` 구문을 활용해서 처리할 수 있게 되어 안정성도 좋아졌습니다.<br>\n",
    "그런데 자세히 보니 아직 불만적인 부분이 있습니다.<br>\n",
    "새롭게 추가된 ``else`` 구문의 경우, 잘못된 값은 언제나 5번의 조건 검사를 모두 거치게 됩니다.<br>\n",
    "어떻게 하면 이런 불합리점을 다시 개선할수 있을까요?<br>"
   ]
  },
  {
   "cell_type": "markdown",
   "id": "949879c9-81c2-4412-ba27-875011fb3f16",
   "metadata": {},
   "source": [
    "## 중첩된 조건문 이해하기"
   ]
  },
  {
   "cell_type": "markdown",
   "id": "5db236cb-6144-4264-b103-5c43192eb234",
   "metadata": {},
   "source": [
    "앞서 프로그램의 문제점은 잘못된 입력을 사용자가 주는 경우가 성능 면에서 가장 많은 시간과 자원을 사용한다는 점입니다.<br>\n",
    "여기서의 개선 포인트는 의미있는 값이 0이상이고 14이하인 값이라는 점입니다.<br>\n",
    "따라서 사용자가 입력값을 주면 일단 의미가 있는 값인지, 아니면 에러 처리 할지를 미리 하는 것입니다.<br>\n",
    "이런 경우는 어떻게 해야할까요?<br>\n",
    "\n",
    "새로운 문법은 필요 없으며, 이미 배운 문법을 사용하면 되는데, 이를 중첩된(Nested) 조건문이라고 합니다.<br>\n",
    "바로 조건문 안에 조건문을 넣는 방법입니다.<br>\n",
    "실제 위의 프로그램을 중첩된 조건문을 사용하여 개선하면 다음과 같습니다.\n",
    "\n",
    "```python\n",
    "phInput = int(input(\"Enter the pH level (integer, 0...14): \"))\n",
    "\n",
    "if (phInput >= 0) and (phInput <= 14):\n",
    "    if (phInput >= 0) and (phInput <=4):\n",
    "        print(\"Strong acid\")\n",
    "    elif (phInput >= 5) and (phInput <=6):\n",
    "        print(\"Weak acid\")\n",
    "    elif (phInput == 7):\n",
    "        print(\"Neutral\")\n",
    "    elif (phInput >= 8) and (phInput <=9):\n",
    "        print(\"Weak base\")\n",
    "    elif (phInput >= 10) and (phInput <=14):\n",
    "        print(\"Strong base\")\n",
    "else:\n",
    "    print(\"Not matched\")\n",
    "```\n",
    "\n",
    "아래의 입력창에, 코드를 입력하고 실행하여 어떻게 동작하는지 직접 경험해 봅니다.<br>"
   ]
  },
  {
   "cell_type": "code",
   "execution_count": null,
   "id": "4d8b9ebf-ff45-42cf-a0e3-ec3861ed9fa1",
   "metadata": {},
   "outputs": [],
   "source": []
  },
  {
   "cell_type": "markdown",
   "id": "e05367ec",
   "metadata": {},
   "source": [
    "***"
   ]
  },
  {
   "cell_type": "markdown",
   "id": "20bdb250-715c-444a-acf5-08aa37a1d9c9",
   "metadata": {},
   "source": [
    "# 실습 (LAB)"
   ]
  },
  {
   "cell_type": "markdown",
   "id": "74480d53-7fb4-4202-8266-0a3794d54267",
   "metadata": {},
   "source": [
    "## 짝수/홀수 판정 프로그램 개발하기"
   ]
  },
  {
   "cell_type": "markdown",
   "id": "6b38ead9-5a66-4c29-975f-a069c6b9ab2d",
   "metadata": {},
   "source": [
    "사용자로부터 정수 하나를 입력 받아서, 짝수이면 ``\"Even number\"``를 출력하고 홀수이면 ``\"Odd number\"``를 출력하는 프로그램을 만들어 봅니다.<br>\n",
    "이를 위하여 ``decideNumber()`` 함수를 만들며, 함수의 입력은 사용자로부터 입력받은 숫자를 전달하고, 함수의 출력으로 위의 문자열을 돌려주도록 합니다.<br>\n",
    "\n",
    "그러면 아래 입력창에 이 프로그램을 만들고 실행하여, 숫자를 입력받고, 화면에 결과가 나타나도록 만들어 봅니다."
   ]
  },
  {
   "cell_type": "code",
   "execution_count": null,
   "id": "6f5794f5-e746-4de2-9531-958318d8edec",
   "metadata": {},
   "outputs": [],
   "source": []
  },
  {
   "cell_type": "markdown",
   "id": "2d25a9a5-0a39-4fa6-8e4a-531d1f7dac38",
   "metadata": {},
   "source": [
    "**\\[자가진단\\] 본인이 만든 LAB 프로그램이 제대로 동작하는지 확인합니다.**<br>\n",
    "아래의 입력창을 수정하지 않고, 그대로 실행해서, 아래와 동일하게 나온다면 제대로 작성한 것입니다.<br>\n",
    "만약 그렇지 않다면, ``decideNumber()`` 함수를 수정하여 에러가 없도록 다시 작성합니다.<br>"
   ]
  },
  {
   "cell_type": "code",
   "execution_count": null,
   "id": "63ca9177-4d53-4fa4-8fa6-40325cddb212",
   "metadata": {},
   "outputs": [],
   "source": [
    "assert decideNumber(23) == \"Odd number\"\n",
    "assert decideNumber(22) == \"Even number\""
   ]
  },
  {
   "cell_type": "markdown",
   "id": "e2a501df-31ff-4f10-9d6a-cbeda36cbdba",
   "metadata": {},
   "source": [
    "## 두 수 중 큰수를 판정하는 프로그램 개발하기 "
   ]
  },
  {
   "cell_type": "markdown",
   "id": "7848e46c-1c22-41ad-baae-a8fdbf5d4ed6",
   "metadata": {},
   "source": [
    "사용자로부터 두개의 정수를 입력 받아서, 둘 중 큰 값을 화면에 출력하는 프로그램을 만들어 봅니다.<br>\n",
    "\n",
    "이를 위하여 ``decideLarger()`` 함수를 만들어서, 사용자가 입력한 두 개의 숫자를 입력 파라메타로 전달받고, 이 중 큰 값을 결과값으로 return 합니다.<br>\n",
    "``decideLarger()`` 함수 내부에서는, 입력 파라메타의 두 수 중 큰 수를 판단할 떄 ``if-else`` 구문을 사용하여 구현해야 합니다.<br>\n",
    "\n",
    "이 프로그램은, 만약 두 수가 같은 수라면, 화면에는 두 수가 같다는 메세지를 출력해야 합니다.<br>\n",
    "\n",
    "그러면 아래 입력창에 이 프로그램을 만들고 실행해 보도록 합니다."
   ]
  },
  {
   "cell_type": "code",
   "execution_count": null,
   "id": "4dad7a3d-fd33-485c-ab66-f53165e216f4",
   "metadata": {},
   "outputs": [],
   "source": []
  },
  {
   "cell_type": "markdown",
   "id": "fa2e3f6e-9cbe-439d-b58c-eb6b135070af",
   "metadata": {},
   "source": [
    "**\\[자가진단\\] 본인이 만든 LAB 프로그램이 제대로 동작하는지 확인합니다.**<br>\n",
    "아래의 입력창을 수정하지 않고, 그대로 실행해서, 아래와 동일하게 나온다면 제대로 작성한 것입니다.<br>\n",
    "만약 그렇지 않다면, ``decideLarger()`` 함수를 수정하여 에러가 없도록 다시 작성합니다.<br>"
   ]
  },
  {
   "cell_type": "code",
   "execution_count": null,
   "id": "f2100e81-3146-4293-888a-660c5c79149d",
   "metadata": {},
   "outputs": [],
   "source": [
    "assert decideLarger(20,10) == 20\n",
    "assert decideLarger(-20,10) == 10"
   ]
  }
 ],
 "metadata": {
  "kernelspec": {
   "display_name": "Python 3.9.10 64-bit",
   "language": "python",
   "name": "python3"
  },
  "language_info": {
   "codemirror_mode": {
    "name": "ipython",
    "version": 3
   },
   "file_extension": ".py",
   "mimetype": "text/x-python",
   "name": "python",
   "nbconvert_exporter": "python",
   "pygments_lexer": "ipython3",
   "version": "3.9.10"
  },
  "vscode": {
   "interpreter": {
    "hash": "82ed002fa2d4956f5c6aec99bcefe0f73a9f79882f3c9e2319b14958a5896ac5"
   }
  }
 },
 "nbformat": 4,
 "nbformat_minor": 5
}
