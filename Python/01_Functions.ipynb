{
 "cells": [
  {
   "cell_type": "markdown",
   "id": "eb354fe8-0ebc-42c3-900a-073fd1781ab2",
   "metadata": {},
   "source": [
    "# Functions(함수)"
   ]
  },
  {
   "cell_type": "markdown",
   "id": "0bbec7a0-f865-489c-8991-bcb36d3a9936",
   "metadata": {},
   "source": [
    "본 실습에서는 Python을 통해서 수학의 함수와 동일한 수학 계산을 하는 경우, 그리고 보다 폭넓은 기능을 제공하는 함수를 만나게 됩니다.<br>\n",
    "이러한 과정에서 Python이 이미 제공하는 수많은 함수들을 익히고, 사용자가 스스로 함수를 만드는 과정을 경험하게 됩니다."
   ]
  },
  {
   "cell_type": "markdown",
   "id": "d3f634ca-a3d7-43d2-9ab2-c2c696794459",
   "metadata": {},
   "source": [
    "## 내장 함수 이해하기"
   ]
  },
  {
   "cell_type": "markdown",
   "id": "ef0d7f84-2f58-4441-be13-cceb9efaea7e",
   "metadata": {},
   "source": [
    "Python과 같은 프로그래밍 언어는, 이미 다양한 기능을 수행하는 함수들을 내장하고 있으며, 예를 들면 다음과 같습니다.<br>\n",
    "\n",
    "``abs(x)``: 입력 받은 정수 혹은 실수 변수인 ``x``의 절대값을 계산합니다.<br>\n",
    "``pow(x, y)``: 입력 받은 ``x``의 ``y`` 거듭제곱을 계산합니다.<br>\n",
    "``round(x)``: 입력 받은 ``x``를 소수점 다음에 대해서 반올림한 값을 계산합니다.<br>\n",
    "\n",
    "다음의 코드를 아래 입력창에 한번에 입력하여, 실행함으로서 확인이 가능합니다.<br>\n",
    "\n",
    "```python\n",
    "print(abs(-9))\n",
    "print(pow(3,2))\n",
    "print(round(4.3))\n",
    "```"
   ]
  },
  {
   "cell_type": "code",
   "execution_count": null,
   "id": "24b6b61b-d19c-476b-b3d8-6775ddbd1225",
   "metadata": {},
   "outputs": [],
   "source": []
  },
  {
   "cell_type": "markdown",
   "id": "ef2193e3-f353-4fe3-9c9c-d6dab120389f",
   "metadata": {},
   "source": [
    "Python은 매우 많은 내장 함수를 기본적으로 제공하므로, 이에 대해서는 다음의 웹사이트를 방문하여 천천히 살펴보도록 합니다.<br>\n",
    "Python 3.x의 내장함수 설명 웹사이트: <https://docs.python.org/ko/3/library/functions.html#round>\n",
    "\n",
    "혹은 Python 문법의 사용법을 모를때 호출하면 유용하게 사용할 수 있는, 함수 ``help()``를 사용하는 것도 좋은 방법입니다.<br>\n",
    "즉 본인이 궁금한 함수의 이름을 ``help()`` 함수의 입력 파라메타로 입력하면, 이에 대한 짧은 설명을 Python이 알려줍니다.<br>\n",
    "시험 삼아, abs() 함수에 대한 사항을 알아보기 위하여, 다음의 입력창에 ``help(abs)``를 입력후 실행해 보십시오."
   ]
  },
  {
   "cell_type": "code",
   "execution_count": null,
   "id": "cd5eb362-8071-4d40-a8db-0c69a25b578c",
   "metadata": {},
   "outputs": [],
   "source": []
  },
  {
   "cell_type": "markdown",
   "id": "6154f200-7fd9-4a86-af39-ba0cdf52c12c",
   "metadata": {},
   "source": [
    "Python이 제공하는 내장 함수들 중에는 변수의 타입을 바꿔주는 함수들도 존재합니다.<br>\n",
    "즉, 앞서의 수업에서 배운 정수/실수 타입에 대해서, 정수를 실수로 혹은 실수를 정수로 바꿔주는 함수들이며, 함수의 이름은 타입명과 동일합니다.<br>\n",
    "예를 들어 다음의 예제는 각각 실수인 34.6을 정수 34로 바꿔주고,<br>\n",
    "정수인 21을 21.0의 실수 타입으로 변환하여 주는 것을 알수 있습니다.<br>\n",
    "다음의 코드를 아래 입력창에 한번에 입력하여, 실행함으로서 확인이 가능합니다.<br>\n",
    "\n",
    "```python\n",
    "print(int(34.6))\n",
    "print(float(21))\n",
    "```"
   ]
  },
  {
   "cell_type": "code",
   "execution_count": null,
   "id": "d8684286-303a-4cd4-87a8-f5bbba96bc7d",
   "metadata": {
    "tags": []
   },
   "outputs": [],
   "source": []
  },
  {
   "cell_type": "markdown",
   "id": "954cf9f5-c1b1-4931-9f17-d1126c0ff4c0",
   "metadata": {
    "tags": []
   },
   "source": [
    "## 사용자 정의 함수 만들기"
   ]
  },
  {
   "cell_type": "markdown",
   "id": "2637486f-c6fc-475c-9b84-47e9be97fda5",
   "metadata": {},
   "source": [
    "Python 언어가 기본적으로 제공하는 내장 함수외에, 컴퓨터 프로그래머가 필요한 함수를 직접 만드는 것이 가능합니다.<br>\n",
    "화씨 온도인 F를 섭씨 온도인 C로 변환하는 다음의 수학 공식을 Python을 사용한 사용자 정의 함수로 만들어 보겠습니다.<br>\n",
    "\n",
    "``Fahrenheit to Celsius (수학)``: $C=(F-32)*\\frac{5}{9}$\n",
    "\n",
    "사용자 정의 함수를 만들기 전에 다음의 사항을 미리 고민해야 합니다.<br>\n",
    "\n",
    "(1) 함수의 이름은 무엇인가?<br>\n",
    "(2) 함수의 입력 파라메타는 무엇인가? (갯수, 종류 등)<br>\n",
    "(3) 함수의 기능은 무엇인가? (입력 파라메타를 받아서 어떤 작업을 해야하는가 등)<br>\n",
    "(4) 함수의 출력 파라메타는 무엇인가? ((3)의 작업을 마친후, 함수를 호출한 곳으로 어떤 결과를 돌려줘야 하는가 등)<br>\n",
    "\n",
    "각각에 대해서 미리 답을 해봅시다.\n",
    "\n",
    "(1) 함수의 이름: **convert_to_celsius**<br>\n",
    "(2) 함수의 입력 파라메타: **화씨로 변환할 섭씨 온도 숫자 하나**<br>\n",
    "(3) 함수의 기능: **화씨를 섭씨로 바꾸는 공식에 맞춰서, 입력 파라메타에서 32를 뺀후 $\\frac{5}{9}$를 곱함**<br>\n",
    "(4) 함수의 출력 파라메타: **화씨로 변환한 온도 숫자 하나**<br>\n",
    "\n",
    "이제 정의한 함수를 Python 언어로 작성하면 다음과 같습니다.<br>\n",
    "\n",
    "```python\n",
    "def convert_to_celsius(fahrenheit):\n",
    "    return (fahrenheit - 32) * 5/9\n",
    "```\n",
    "아래 입력창에 위 코드를 작성하여 실습해 봅니다.<br>\n",
    "오류가 발생하지 않으면 잘 작성한 것입니다."
   ]
  },
  {
   "cell_type": "code",
   "execution_count": null,
   "id": "ec08eb4b-316a-40aa-ae61-b0cf5a035cd9",
   "metadata": {},
   "outputs": [],
   "source": []
  },
  {
   "cell_type": "markdown",
   "id": "eb5bf5c6-88bc-4018-91ea-40727d5e1db2",
   "metadata": {},
   "source": [
    "에러가 나지 않았다면, 이제 Python은 여러분이 만든 ``convert_to_celsius()`` 함수를 기억하고 있습니다.<br>\n",
    "이제 만든 함수를 사용(호출)해 볼까요?<br>\n",
    "아래의 입력창에 다음과 같이 화씨 212도를 섭씨로 변환하는 함수 호출을 실습해 보십시오.<br>\n",
    "\n",
    "```python\n",
    "cel_temp = convert_to_celsius(212)\n",
    "print(cel_temp)\n",
    "```"
   ]
  },
  {
   "cell_type": "code",
   "execution_count": null,
   "id": "045e5088-4278-4ca5-a20a-651a8b2a1d79",
   "metadata": {},
   "outputs": [],
   "source": []
  },
  {
   "cell_type": "markdown",
   "id": "19ae119d-187a-4a05-ab73-d2c1ff74fa5f",
   "metadata": {},
   "source": [
    "## 지역변수 이해하기"
   ]
  },
  {
   "cell_type": "markdown",
   "id": "8aa55b30-d555-4aa8-a920-091dd2d361f4",
   "metadata": {},
   "source": [
    "우리는 앞서의 수업에서 필요한 시점에 필요한 값을 저장하는 변수를 배웠고, 위의 예제들에서도 사용하였습니다.<br>\n",
    "이미 만들어진 변수에 대해서, 이 변수가 만들어진 지점이 어디냐에 따라서, 이후 사용 가능하거나 불가능한 경우가 발생합니다.<br>\n",
    "대표적인 사례는 지역변수(Local Variables) 입니다.<br>\n",
    "지역변수를 이해하기 위하여, 앞서 만든 사용자 정의 함수를 다시 봅니다.<br>\n",
    "\n",
    "```python\n",
    "def convert_to_celsius(fahrenheit):\n",
    "    return (fahrenheit - 32) * 5/9\n",
    "```\n",
    "\n",
    "사용자 정의 함수 ``convert_to_celsius()`` 안에는 변수 ``fahrenheit``가 있는 것을 볼수 있습니다.<br>\n",
    "이는 해당 함수 안에서 만들어서 사용한 변수이며, 따라서 ``convert_to_celsius()`` 안에서만 의미가 있는데, 이를 지역변수라고 합니다.<br>\n",
    "즉, 변수를 사용할 수 있는 지역이 사용자 정의 함수 ``convert_to_celsius()`` 안으로 제한되는 것 입니다.<br>\n",
    "이를 확인해 보기 위하여, 아래의 창에 다음처럼 ``fahrenheit`` 변수의 값을 읽어보는 시도를 해봅니다.<br>\n",
    "\n",
    "```python\n",
    "print(fahrenheit)\n",
    "```"
   ]
  },
  {
   "cell_type": "code",
   "execution_count": null,
   "id": "7bd71208-41c0-4882-a037-55073530cb5d",
   "metadata": {},
   "outputs": [],
   "source": []
  },
  {
   "cell_type": "markdown",
   "id": "d5629c5e-ee25-40fa-b145-5111d17ad91f",
   "metadata": {},
   "source": [
    "시도해본 결과 ``\"name 'fahrenheit' is not defined\"``라는 에러가 나는 것을 볼수 있습니다.<br>\n",
    "즉, 우리가 지금 ``fahrenheit`` 변수를 사용한 지점은 ``convert_to_celsius()`` 함수 밖이기에,<br>\n",
    "``convert_to_celsius()`` 함수 안에서만 사용 가능한 ``fahrenheit`` 변수를 접근하는 행위는 문제가 있는 것 입니다.<br>"
   ]
  },
  {
   "cell_type": "markdown",
   "id": "b1e93382",
   "metadata": {},
   "source": [
    "***"
   ]
  },
  {
   "cell_type": "markdown",
   "id": "1c010abc-3208-4b12-8489-a49c71151c51",
   "metadata": {},
   "source": [
    "# Lab(실습)"
   ]
  },
  {
   "cell_type": "markdown",
   "id": "70654c3f-c536-49a3-9c59-e71162555bd6",
   "metadata": {},
   "source": [
    "## Python 내장 함수 사용하기"
   ]
  },
  {
   "cell_type": "markdown",
   "id": "14e8d1ef-04af-4c92-9eb0-c529ab897dde",
   "metadata": {
    "tags": []
   },
   "source": [
    "위의 내장 함수 관련 웹사이트를 참조하여, 다음의 각 줄에 해당하는 코드를 작성하고, ``print()`` 문법을 사용하여 출력합니다.<br>\n",
    "\n",
    "(1) -9.2의 절대값<br>\n",
    "(2) 3^2(3의 2거듭제곱)값<br>\n",
    "(3) -4.3의 정수값<br>\n",
    "(4) 21의 실수값<br>\n",
    "(5) 2와 3중 최소값<br>\n",
    "(6) 2, -3, 4, 7, -5의 최소값<br>\n",
    "(7) 2, -3, 4, 7, -5의 최대값<br>\n",
    "(8) 2, -3, min(4,7), -5 중 최소값<br>\n",
    "(9) 2, -3, max(4,7), -5 중 최대값<br>"
   ]
  },
  {
   "cell_type": "code",
   "execution_count": null,
   "id": "c02abdc1-d75f-4b4b-a5a2-bcd917c18e44",
   "metadata": {},
   "outputs": [],
   "source": []
  },
  {
   "cell_type": "markdown",
   "id": "ef7eb4d8-8883-4f39-a575-046179436133",
   "metadata": {},
   "source": [
    "## 사용자 정의 함수 만들기"
   ]
  },
  {
   "cell_type": "markdown",
   "id": "3e57a47e-4169-4132-9b86-645932054d15",
   "metadata": {},
   "source": [
    "다음의 다섯 함수를 만듭니다.<br>\n",
    "\n",
    "- add(a,b): a와 b값을 더한 값을 출력값으로 돌려줌<br>\n",
    "- subtract(a,b): a에서 b값을 뺀 값을 출력값으로 돌려줌<br>\n",
    "- multiply(a,b): a와 b값을 곱한 값을 출력값으로 돌려줌<br>\n",
    "- divide(a,b): a를 b로 나눈 값을 출력값으로 돌려줌<br>\n",
    "\n",
    "임시 변수 x, y를 만들어서 각각에 적절한 값을 대입한 후,<br>\n",
    "위에서 정의한 사용자 함수들을 하나 하나 호출하고 난후, 결과값을 ``print()`` 문법을 사용하여 출력하도록 합니다."
   ]
  },
  {
   "cell_type": "markdown",
   "id": "1c3a2321-26b6-4d6e-ba2d-07f656942bb1",
   "metadata": {},
   "source": [
    "### [add] 더하기 함수를 작성합니다.\n",
    "두 숫자를 파라미터로 입력받아 합을 계산하여 호출된 곳으로 전달합니다.<br>\n",
    "아래 입력창에 ``add()``함수를 작성합니다."
   ]
  },
  {
   "cell_type": "code",
   "execution_count": null,
   "id": "1191a0e1-cbdd-4260-b355-0a0c2797dc7d",
   "metadata": {},
   "outputs": [],
   "source": []
  },
  {
   "cell_type": "markdown",
   "id": "c60f3307-44da-4cd2-82d3-684d4adb1c5e",
   "metadata": {},
   "source": [
    "**\\[자가진단 1\\] 본인이 만든 프로그램이 제대로 동작되는지 확인합니다.**<br>\n",
    "아래 입력창을 수정하지 않고 실행하여 그 결과과 35가 나온다면 제대로 작성한 것입니다.<br>\n",
    "그렇지 않다면 ``add()``함수를 수정하여 에러가 없도록 작성합니다."
   ]
  },
  {
   "cell_type": "code",
   "execution_count": null,
   "id": "f83653d5-bf26-48ff-b4c9-833c782c4134",
   "metadata": {},
   "outputs": [],
   "source": [
    "result = add(10,25)\n",
    "print(result)"
   ]
  },
  {
   "cell_type": "markdown",
   "id": "d3ccfa36-aebc-4b6e-867e-2d253fe02876",
   "metadata": {},
   "source": [
    "**[자가긴단 2] 본인이 만든 프로그램이 제대로 동작되는지 확인합니다.**<br>\n",
    "아래 입력창을 수정하지 않고 실행해서 <b>아무런 반응이 없으면 제대로 작성한 것입니다.</b><br>\n",
    "만약 에러화면이 나타나면 ``add()`` 함수를 수정하여 에러가 없도록 작성합니다."
   ]
  },
  {
   "cell_type": "code",
   "execution_count": null,
   "id": "f854e8e5-aadb-4e5c-b760-6fdc70dcb8e4",
   "metadata": {},
   "outputs": [],
   "source": [
    "assert add(3,5) == 8\n",
    "assert add(10,20) == 30"
   ]
  },
  {
   "cell_type": "markdown",
   "id": "5162eb3f-daf8-4940-9671-3e581ea4ff9e",
   "metadata": {},
   "source": [
    "### [subtract] 빼기 함수를 작성합니다.\n",
    "두 숫자를 파라미터로 입력받아 첫 번째 숫자에서 두 번째 숫자를 뺄셈하여 호출된 곳으로 전달합니다.<br>\n",
    "아래 입력창에 ``subtract()``함수를 작성합니다."
   ]
  },
  {
   "cell_type": "code",
   "execution_count": null,
   "id": "40f6eb8d-760c-4119-b927-0953b5f5cfa5",
   "metadata": {},
   "outputs": [],
   "source": []
  },
  {
   "cell_type": "markdown",
   "id": "faf35a26-363e-461a-8b24-1aed29be03d0",
   "metadata": {},
   "source": [
    "**[자가진단 1]본인이 만든 프로그램이 제대로 동작되는지 확인합니다.**<br>\n",
    "아래 입력창을 수정하지 않고 실행하여 그 결과가 -15가 나온다면 제대로 작성한 것입니다.<br>\n",
    "그렇지 않다면 ``subtract()``함수를 수정하여 에러가 없도록 작성합니다."
   ]
  },
  {
   "cell_type": "code",
   "execution_count": null,
   "id": "db867108-0b40-4637-8625-80af209b72eb",
   "metadata": {},
   "outputs": [],
   "source": [
    "result = subtract(10,25)\n",
    "print(result)"
   ]
  },
  {
   "cell_type": "markdown",
   "id": "73c6ea01-6f8c-44cf-ab46-987ed9888bd8",
   "metadata": {},
   "source": [
    "**[자가긴단 2] 본인이 만든 프로그램이 제대로 동작되는지 확인합니다.**<br>\n",
    "아래 입력창을 수정하지 않고 실행해서 <b>아무런 반응이 없으면 제대로 작성한 것입니다.</b><br>\n",
    "만약 에러화면이 나타나면 ``subtract()`` 함수를 수정하여 에러가 없도록 작성합니다."
   ]
  },
  {
   "cell_type": "code",
   "execution_count": null,
   "id": "801e6e1f-f557-4375-b636-886b53fc364c",
   "metadata": {},
   "outputs": [],
   "source": [
    "assert subtract(3,5) == -2\n",
    "assert subtract(20,10) == 10"
   ]
  },
  {
   "cell_type": "markdown",
   "id": "a75b6728-0a62-4696-adfb-b20db9df6b91",
   "metadata": {},
   "source": [
    "### [multiply] 곱하기 함수를 작성합니다.\n",
    "두 숫자를 파라미터로 입력받아 곱셈하여 호출된 곳으로 전달합니다.<br>\n",
    "아래 입력창에 ``multiply()``함수를 작성합니다."
   ]
  },
  {
   "cell_type": "code",
   "execution_count": null,
   "id": "de02f04d-1ae2-42a1-b278-84c1569eae3d",
   "metadata": {},
   "outputs": [],
   "source": []
  },
  {
   "cell_type": "markdown",
   "id": "70b6ea93-17a5-431b-ae9d-db8130044162",
   "metadata": {},
   "source": [
    "**[자가진단 1]본인이 만든 프로그램이 제대로 동작되는지 확인합니다.**<br>\n",
    "아래 입력창을 수정하지 않고 실행하여 그 결과가 250이 나온다면 제대로 작성한 것입니다.<br>\n",
    "그렇지 않다면 ``myltiply()``함수를 수정하여 에러가 없도록 작성합니다."
   ]
  },
  {
   "cell_type": "code",
   "execution_count": null,
   "id": "93a95706-4a7c-48b3-b7b3-65e2f31e7feb",
   "metadata": {},
   "outputs": [],
   "source": [
    "print( multiply(10,25) )"
   ]
  },
  {
   "cell_type": "markdown",
   "id": "81e88d78-1224-4288-a103-f3cb0969b0ff",
   "metadata": {},
   "source": [
    "**[자가긴단 2] 본인이 만든 프로그램이 제대로 동작되는지 확인합니다.**<br>\n",
    "아래 입력창을 수정하지 않고 실행해서 <b>아무런 반응이 없으면 제대로 작성한 것입니다.</b><br>\n",
    "만약 에러화면이 나타나면 ``multiply()`` 함수를 수정하여 에러가 없도록 작성합니다."
   ]
  },
  {
   "cell_type": "code",
   "execution_count": null,
   "id": "fb655a41-39b9-41e1-ba49-b5ca3375ad4e",
   "metadata": {},
   "outputs": [],
   "source": [
    "assert multiply(3,5) == 15\n",
    "assert multiply(20,10) == 200"
   ]
  },
  {
   "cell_type": "markdown",
   "id": "ff3a6c53-97a5-4b5a-b485-8e23e315ca30",
   "metadata": {},
   "source": [
    "### [divide] 나누기 함수를 작성합니다.\n",
    "두 숫자를 파라미터로 입력받아 첫 번째 수를 두 번째 수로 나누어 그 결과를 호출된 곳으로 전달합니다.<br>\n",
    "아래 입력창에 ``divide()``함수를 작성합니다."
   ]
  },
  {
   "cell_type": "code",
   "execution_count": null,
   "id": "557f5cc8-cab0-4610-a425-3be466afabf1",
   "metadata": {},
   "outputs": [],
   "source": []
  },
  {
   "cell_type": "markdown",
   "id": "a3904289-38c6-4421-a6f6-b8cf4f5d993e",
   "metadata": {
    "tags": []
   },
   "source": [
    "**[자가진단 1]본인이 만든 프로그램이 제대로 동작되는지 확인합니다.**<br>\n",
    "아래 입력창을 수정하지 않고 실행하여 그 결과가 2가 나온다면 제대로 작성한 것입니다.<br>\n",
    "그렇지 않다면 ``divide()``함수를 수정하여 에러가 없도록 작성합니다."
   ]
  },
  {
   "cell_type": "code",
   "execution_count": null,
   "id": "26ccad14-2a31-4ace-bdc2-4e19572ff271",
   "metadata": {},
   "outputs": [],
   "source": [
    "print(divide(20,10))"
   ]
  },
  {
   "cell_type": "markdown",
   "id": "0eb5c122-e55d-4fd2-b07d-cda9865d8666",
   "metadata": {},
   "source": [
    "**[자가긴단 2] 본인이 만든 프로그램이 제대로 동작되는지 확인합니다.**<br>\n",
    "아래 입력창을 수정하지 않고 실행해서 <b>아무런 반응이 없으면 제대로 작성한 것입니다.</b><br>\n",
    "만약 에러화면이 나타나면 ``divide()`` 함수를 수정하여 에러가 없도록 작성합니다."
   ]
  },
  {
   "cell_type": "code",
   "execution_count": null,
   "id": "8aa897b5-dd9b-4d24-be6b-6fc843ba57f0",
   "metadata": {},
   "outputs": [],
   "source": [
    "assert divide(10,5) == 2\n",
    "assert divide(25,5) == 5"
   ]
  },
  {
   "cell_type": "markdown",
   "id": "e1df2fac-5312-499b-8f8b-ee9864a58adc",
   "metadata": {},
   "source": [
    "## function object를 함수의 파라미터로 사용하기"
   ]
  },
  {
   "cell_type": "markdown",
   "id": "4765a850-d07e-4b74-926b-02ce96ba74a6",
   "metadata": {},
   "source": [
    "함수의 파라미터에는 일반적인 값(value)뿐만 아니라 함수명(function object)도 올 수 있습니다.<br>\n",
    "어떤 함수의 파라미터로 적용된 function object는 함수 내에서 호출이 가능합니다. 즉, 동일한 함수로 다양한 기능을 수행할 수 있습니다.<br>\n",
    "이번 실습에서는 ``calc()`` 함수를 이용하여 위에서 구현한 사칙연산 함수들을 사용하는 방법을 다룹니다.<br>\n",
    "사용 예는 다음과 같습니다.<br>\n",
    "```python\n",
    "# 덧셈\n",
    "calc(add, 3, 5)\n",
    "#뺄셈\n",
    "calc(subtract, 3, 5)\n",
    "# 곱셈\n",
    "calc(multiply, 3, 5)\n",
    "# 나눗셈\n",
    "calc(divide, 3, 5)\n",
    "```\n",
    "\n",
    "add, subtract, multiply, divide는 위에서 만든 함수들입니다.<br>\n",
    "아래 창에 ``calc()`` 함수를 작성합니다."
   ]
  },
  {
   "cell_type": "code",
   "execution_count": null,
   "id": "44f9e149-6e5b-4ff8-9c10-deedc8f58e31",
   "metadata": {},
   "outputs": [],
   "source": []
  },
  {
   "cell_type": "markdown",
   "id": "15f927f1-1175-49bf-b237-10c6e1d49b7a",
   "metadata": {
    "tags": []
   },
   "source": [
    "**[자가진단] 본인이 만든 프로그램이 제대로 동작되는지 확인합니다.**<br>\n",
    "아래 입력창을 수정하지 않고 실행하여 그 결과가 다음과 같이 나온다면 제대로 작성한 것입니다.<br>\n",
    "그렇지 않다면 ``calc()``함수를 수정하여 에러가 없도록 작성합니다.<br>\n",
    "``8`` ``-2`` ``15`` ``0.6``"
   ]
  },
  {
   "cell_type": "code",
   "execution_count": null,
   "id": "b2553112-c1c4-4540-ba8d-dc4fcd9fb59e",
   "metadata": {},
   "outputs": [],
   "source": [
    "result1 = calc(add, 3, 5)\n",
    "result2 = calc(subtract, 3, 5)\n",
    "result3 = calc(multiply, 3, 5)\n",
    "result4 = calc(divide, 3, 5)\n",
    "print (result1, result2, result3, result4)"
   ]
  }
 ],
 "metadata": {
  "kernelspec": {
   "display_name": "Python 3.9.10 64-bit",
   "language": "python",
   "name": "python3"
  },
  "language_info": {
   "codemirror_mode": {
    "name": "ipython",
    "version": 3
   },
   "file_extension": ".py",
   "mimetype": "text/x-python",
   "name": "python",
   "nbconvert_exporter": "python",
   "pygments_lexer": "ipython3",
   "version": "3.9.10"
  },
  "vscode": {
   "interpreter": {
    "hash": "82ed002fa2d4956f5c6aec99bcefe0f73a9f79882f3c9e2319b14958a5896ac5"
   }
  }
 },
 "nbformat": 4,
 "nbformat_minor": 5
}
