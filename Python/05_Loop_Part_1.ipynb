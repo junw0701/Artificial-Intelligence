{
 "cells": [
  {
   "cell_type": "markdown",
   "metadata": {},
   "source": [
    "# Loop (반복문) - #1 "
   ]
  },
  {
   "cell_type": "markdown",
   "metadata": {},
   "source": [
    "컴퓨터를 통하여 문제를 해결하는 가장 중요한 이유 중에는 계속적으로 반복하는 작업을 컴퓨터가 대신 처리하여 주는 것이다.<br>\n",
    "이런 기능을 반복문이라고 하며, 대부분의 프로그래밍 언어는 다양한 반복문을 제공한다.<br>\n",
    "Python 언어는 ``for``와 ``while`` 문법을 제공하는데, 이번 실습에서는 ``for`` 구문에 대해서 공부하도록 한다."
   ]
  },
  {
   "cell_type": "markdown",
   "metadata": {},
   "source": [
    "## ``for`` 문법을 이용한 반복문 이해하기"
   ]
  },
  {
   "cell_type": "markdown",
   "metadata": {},
   "source": [
    "Python 언어세어 반복문을 구현하는 첫번째 문법은 ``for`` 구문이며, ``for`` 구문의 기본적인 구조는 다음과 같다.<br>\n",
    "지금까지 배운 내용만으로 만든, 다음의 실제 동작하는 프로그램을 통해서 이해해 봅니다.<br>\n",
    "\n",
    "```Python\n",
    "for i in [1,2,3,4,5,6,7,8,9] :\n",
    "    print(i)\n",
    "```\n",
    "\n",
    "첫째 줄의 ``for`` 문장을 사용하여, 반복할 구문(들)의 시작을 나타낸니다. <br>\n",
    "따라서 ``for`` 문장이 있는 줄의 마지막에 ``:``이 있는 것을 볼 수 있는데, 앞서의 ``if`` 구문과 ``함수의 시작``과 동일한 영역 표시임을 알 수 있습니다.<br>\n",
    "\n",
    "``for`` 구문뒤에 ``i in [1,2,3,4,5,6,7,8,9]`` 구문은 앞서 수업에서 공부한 ``in`` 문법으로서 ``i가 리스트 안에 포함되어 있으면 True``라는 의미였습니다.<br>\n",
    "``in`` 문법이 이렇게 반복문에 사용되면, 하나의 의미가 더 추가되는데, 이는 반복문이 처음 실행될때 리스트의 첫번째 값을 가져와서 ``i``에 저장하며,<br>\n",
    "이후 반복문이 한번 실행될때마다 리스트에서 값을 순서대로 하나씩 읽어서 ``i``에 저장한다는 의미입니다.<br>\n",
    "\n",
    "둘째 줄부터는 반복할 문장을 필요한 만큼 작성하면 되며, 지금은 간단하게 ``i``에 있는 값을 화면에 출력하는 용도로만 작성하였습니다.<br>\n",
    "\n",
    "위의 예제 프로그램을 아래의 입력창에 직접 입력하고 실행하여 동작 결과를 이해해 봅니다."
   ]
  },
  {
   "cell_type": "code",
   "execution_count": null,
   "metadata": {},
   "outputs": [],
   "source": []
  },
  {
   "cell_type": "markdown",
   "metadata": {},
   "source": [
    "## ``range()`` 함수 이해하기"
   ]
  },
  {
   "cell_type": "markdown",
   "metadata": {},
   "source": [
    "``range()`` 함수는 반복문과 함께 자주 사용되는데, 다음과 같은 형태로 자주 사용합니다.<br>\n",
    "\n",
    "(a) ``range(limit)``: ``0``에서 ``limit - 1``까지를, ``1씩 증가하는 형태의`` 값으로 돌려 줍니다.<br> \n",
    "(b) ``range(start, end)``: ``start``에서 ``end``까지를, ``1씩 증가하는 형태의`` 값으로 돌려 줍니다.<br>\n",
    "(c) ``range(start, end, step)``: ``start``에서 ``end``까지의 값을 돌려 주는데, 숫자의 증가폭을 ``step``만큼으로 합니다.<br>\n",
    "\n",
    "아래의 코드는 각각의 예를 실제 동작하는 프로그램으로 만든 것이니, 아래의 입력창에 코드를 실제 입력하고 실행하여 결과를 확인해 봅니다.\n",
    "\n",
    "```Python\n",
    "print(\"Case.1\")\n",
    "for i in range(3) :\n",
    "    print(i)\n",
    "    \n",
    "print(\"Case.2\")\n",
    "for i in range(1,3) :\n",
    "    print(i) \n",
    "    \n",
    "print(\"Case.3\")\n",
    "for i in range(0,10,2) :\n",
    "    print(i)   \n",
    "    \n",
    "print(\"Case.4\")\n",
    "for i in range(10,0,-2) :\n",
    "    print(i) \n",
    "```"
   ]
  },
  {
   "cell_type": "code",
   "execution_count": null,
   "metadata": {},
   "outputs": [],
   "source": []
  },
  {
   "cell_type": "markdown",
   "metadata": {},
   "source": [
    "***"
   ]
  },
  {
   "cell_type": "markdown",
   "metadata": {},
   "source": [
    "# 실습 (LAB)"
   ]
  },
  {
   "cell_type": "markdown",
   "metadata": {},
   "source": [
    "## 사용자가 입력한 숫자보다 작은 숫자로 리스트 만들기"
   ]
  },
  {
   "cell_type": "markdown",
   "metadata": {},
   "source": [
    "다음의 요구 사항에 맞는 프로그램을 개발하여 아래의 입력창을 통해서 실행합니다.<br>\n",
    "\n",
    "(a) 리스트 a가 ``[1,2,1,8,9,4,2,5,1,3]``로 초기화 되어 있습니다.<br>\n",
    "(b) 사용자로부터 정수 하나를 입력받습니다.<br>\n",
    "(c) 리스트 a의 아이템 중 사용자가 입력한 숫자보다 작은 숫자를 모두 출력하는 프로그램을 구현합니다.<br>\n",
    "(d) 이때, 출력할 숫자를 하나씩 출력하지 말고, 해당되는 숫자들을 모아 새로운 list를 만들어서 그 list를 출력하게 합니다.<br>"
   ]
  },
  {
   "cell_type": "code",
   "execution_count": null,
   "metadata": {},
   "outputs": [],
   "source": []
  }
 ],
 "metadata": {
  "kernelspec": {
   "display_name": "Python 3.9.10 64-bit",
   "language": "python",
   "name": "python3"
  },
  "language_info": {
   "codemirror_mode": {
    "name": "ipython",
    "version": 3
   },
   "file_extension": ".py",
   "mimetype": "text/x-python",
   "name": "python",
   "nbconvert_exporter": "python",
   "pygments_lexer": "ipython3",
   "version": "3.9.10"
  },
  "vscode": {
   "interpreter": {
    "hash": "82ed002fa2d4956f5c6aec99bcefe0f73a9f79882f3c9e2319b14958a5896ac5"
   }
  }
 },
 "nbformat": 4,
 "nbformat_minor": 4
}
