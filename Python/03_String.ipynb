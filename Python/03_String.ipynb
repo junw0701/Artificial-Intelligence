{
 "cells": [
  {
   "cell_type": "markdown",
   "id": "cd6a51ec-8207-494a-9021-9b8753bde20c",
   "metadata": {},
   "source": [
    "# String(문자열)"
   ]
  },
  {
   "cell_type": "markdown",
   "id": "914c4c03-5b05-4f53-a68e-be246d5bde0c",
   "metadata": {},
   "source": [
    "문자열은 문자들의 집합을 말합니다.<br> \n",
    "다음과 같은 것들이 문자열입니다.<br>\n",
    "\n",
    "```python\n",
    "\"What's your name?\"\n",
    "\"a\"\n",
    "\"123456\"\n",
    "```\n",
    "\n",
    "위의 예와 같이 문자열을 나타낼 때는 쌍따옴표(\" \")로 둘러쌉니다.<br>\n",
    "혹시 ``\"123456\"``은 문자열이 아니라 숫자 아니냐?라고 생각할 수도 있습니다.<br>\n",
    "따옴표로 둘러싸인 것들은 모두 문자열이라고 생각하면 됩니다.<br>\n",
    "왜나구요? python 언어를 만들 때 그렇게 정의했기 때문입니다.<br>\n",
    "그러면 위의 내용들이 문자열 타입인지 아래 입력창에 다음 코드를 작성하여 확인해 봅니다.<br>\n",
    "\n",
    "```python\n",
    "type(\"What's your name?\")\n",
    "type(\"a\")\n",
    "type(\"123456\")\n",
    "type(123456)            # --> 따옴표로 둘러싸지 않았기 때문에 int 타입입니다.\n",
    "```"
   ]
  },
  {
   "cell_type": "code",
   "execution_count": null,
   "id": "e33831c4-6677-416a-b5b5-9581f7365242",
   "metadata": {},
   "outputs": [],
   "source": []
  },
  {
   "cell_type": "markdown",
   "id": "a1604ccd-1f7c-4e58-87dc-598ea871c6b0",
   "metadata": {},
   "source": [
    "마지막 것을 제외하고 다른 모든 것들의 결과가 ``str``로 나왔을겁니다.<br>\n",
    "Python에서 문자열 타입은 ``str``입니다.<br>\n",
    "문자열을 표현하는 방법에는 쌍따옴표 외에 여러가지가 있습니다.<br>\n",
    "하나씩 살펴보겠습니다.<br>"
   ]
  },
  {
   "cell_type": "markdown",
   "id": "4ee999ee-610e-46d2-80bc-f6cb4f153eb9",
   "metadata": {},
   "source": [
    "## 쌍따옴표(\")를 이용한 문자열 표현"
   ]
  },
  {
   "cell_type": "markdown",
   "id": "74292225-6abc-409e-8574-dbdbe15f3df0",
   "metadata": {},
   "source": [
    "쌍따옴표를 이용한 문자열 표현은 위에서 살펴본 바와 같습니다.<br>\n",
    "다음과 같이 사용할 수 있습니다.<br>\n",
    "아래 입력창에 코드를 작성하여 그 결과를 확인합니다.<br>\n",
    "\n",
    "```python\n",
    "prompt = \"How old are you ?\"\n",
    "age = input(prompt)\n",
    "print(age)\n",
    "print(\"The type of [\", prompt, \"] is\", type(prompt)) \n",
    "print(\"The type of [\", age, \"] is\", type(age)) \n",
    "```"
   ]
  },
  {
   "cell_type": "code",
   "execution_count": null,
   "id": "ac8abb68-db94-4f7c-a41b-666fd38ac0cc",
   "metadata": {},
   "outputs": [],
   "source": []
  },
  {
   "cell_type": "markdown",
   "id": "605a5502-0379-4d59-8dd7-93e4e76073bc",
   "metadata": {},
   "source": [
    "``prompt`` 변수에 저장된 것은 당연히 문자열임을 알 수 있습니다.<br>\n",
    "그런데, 키보드에서 입력받은 숫자를 저장하는 ``age``의 타입도 ``str``입니다.<br>\n",
    "네, 숫자를 입력했지만 타입은 문자열이 맞습니다.<br>\n",
    "이전 강의에서도 다루었지만, 키보드에서 입력하는 모든 것들은 문자열로 받아들입니다.<br>\n",
    "그래서 숫자문자열을 정수로 사용하려면 다음과 같이 형변환(typecast) 과정을 거쳐야 합니다.<br>\n",
    "```python\n",
    "age = int(input(prompt))\n",
    "print(age)\n",
    "print(\"age is\", type(age))\n",
    "```"
   ]
  },
  {
   "cell_type": "code",
   "execution_count": null,
   "id": "b791f36f-4e52-4b5f-aa22-bebc2a1fa832",
   "metadata": {},
   "outputs": [],
   "source": []
  },
  {
   "cell_type": "markdown",
   "id": "6dc51862-a612-4337-8556-57ff847ff831",
   "metadata": {},
   "source": [
    "## 외따옴표(')를 이용한 문자열 표현"
   ]
  },
  {
   "cell_type": "markdown",
   "id": "d8e62857-0e9f-4c12-8ee7-aa76ddbdbff4",
   "metadata": {},
   "source": [
    "외따옴표를 이용한 문자열 표현도 쌍따옴표를 이용한 문자열 표현과 크게 다르지 않습니다.<br>\n",
    "\n",
    "아래 입력창에 다음 코드를 작성하여 실해하고 그 결과를 확인합니다.<br>\n",
    "\n",
    "```python\n",
    "text = 'Hello world'\n",
    "print(text)\n",
    "```"
   ]
  },
  {
   "cell_type": "code",
   "execution_count": null,
   "id": "f34ed74f-b027-4967-8630-31d6d969c4a8",
   "metadata": {},
   "outputs": [],
   "source": []
  },
  {
   "cell_type": "markdown",
   "id": "a4a1ee5f-2b28-4427-a881-1c5d2257efe8",
   "metadata": {},
   "source": [
    "외따옴표를 이용해도 문자열로 표현할 수 있다는 것을 알 수 있습니다.<br>\n",
    "다만, 문자열 중에 `` ' ``가 문자로 사용되는 경우에는 주의해서 사용해야합니다.<br>\n",
    "다음 코드에서는 어떤 문제가 있을까요?\n",
    "\n",
    "```python\n",
    "question1 = 'What's your name?'\n",
    "print(question1)\n",
    "```\n",
    "\n",
    "아래 입력창에 위의 코드를 작성하여 실행하고 오류의 내용을 파악해 봅니다."
   ]
  },
  {
   "cell_type": "code",
   "execution_count": null,
   "id": "964a967e-7e53-42d2-81fe-e98558579e4d",
   "metadata": {},
   "outputs": [],
   "source": []
  },
  {
   "cell_type": "markdown",
   "id": "6bea2974-4764-4f92-8c44-12c0844df7e4",
   "metadata": {},
   "source": [
    "위 코드에서 ``invalid syntax`` 오류가 나는 것을 알 수 있습니다.<br>\n",
    "python은 첫 번째와 두 번째 외따옴표 사이에 있는 단어인 ``What``까지만 문자열로 인식하고, 그 이후에 나오는 문자에 대해서는 문법오류가 발생한 것입니다.<br>\n",
    "이런 경우에는 다음과 같이 쌍따옴표로 둘러싸서 문자열을 만들거나, 특수 문자인 ``백슬래시(\\)``를 사용하여 만들어야 합니다.<br>\n",
    "\n",
    "아래 입력창에 다음 코드들을 입력하여 실행시키고 확인합니다.<br>\n",
    "\n",
    "(1) ``쌍따옴표``로 둘러싸기<br>\n",
    "\n",
    "```python\n",
    "question2= \"What's your name?\"\n",
    "print(question2)\n",
    "```\n",
    "\n",
    "(2) ``백슬래시(/)`` 사용\n",
    "```python\n",
    "question3= 'What\\'s your name?'\n",
    "print(question3)\n",
    "```"
   ]
  },
  {
   "cell_type": "code",
   "execution_count": null,
   "id": "c383e61c-83a6-4b8e-a190-72aa90fabf0c",
   "metadata": {},
   "outputs": [],
   "source": []
  },
  {
   "cell_type": "markdown",
   "id": "7001a947-d292-491a-bd07-e60afdb025f6",
   "metadata": {},
   "source": [
    "## Multi-line 문자열 표현"
   ]
  },
  {
   "cell_type": "markdown",
   "id": "ed9155de-5eba-46eb-afc0-fafff9f50e16",
   "metadata": {},
   "source": [
    "### 외따옴표 3개 (''' ~ ''')를 이용한 여러줄 문자열 표현\n",
    "지금까지는 한 줄로된 문자열을 표현하였습니다.<br>\n",
    "이번에는 여러줄로된 문자열을 표현하는 방법을 알아보겠습니다.<br>\n",
    "여러줄로 이루어진 문자열을 표현하는 방법은 2가지가 있습니다.<br>\n",
    "첫 번째는 외따옴표 3개(``'''``)를 쓰는 방법입니다.<br>\n",
    "\n",
    "아래 입력창에 다음 코드를 작성하여 실행하고 그 결과를 확인합니다.<br>\n",
    "\n",
    "```python\n",
    "menus = '''\n",
    "Start game\n",
    "Sound setting\n",
    "Exit\n",
    "'''\n",
    "print(menus)\n",
    "```"
   ]
  },
  {
   "cell_type": "code",
   "execution_count": null,
   "id": "08c2f974-34d1-420f-bb13-45c48c752fc9",
   "metadata": {},
   "outputs": [],
   "source": []
  },
  {
   "cell_type": "markdown",
   "id": "eaa14109-20ff-4819-bb00-18010238f9cd",
   "metadata": {},
   "source": [
    "### 쌍따옴표 3개(\"\"\" ~ \"\"\")를 이용한 여러줄 문자열 표현\n",
    "문자열이 여러 줄로 출력되는 것을 알 수 있습니다.<br>\n",
    "두 번째 방법은 쌍따옴표 3개(``\"\"\"``)를 쓰는 방법입니다.<br>\n",
    "\n",
    "아래 입력창에 다음 코드를 작성하여 실행하고 그 결과를 확인합니다.<br>\n",
    "\n",
    "```python\n",
    "soundMenu = \"\"\"\n",
    "Sound On\n",
    "Sound Off\n",
    "Go to Main\n",
    "\"\"\"\n",
    "print(soundMenu)\n",
    "```"
   ]
  },
  {
   "cell_type": "code",
   "execution_count": null,
   "id": "94423d43-ae97-485c-a7e9-f80c07de1224",
   "metadata": {},
   "outputs": [],
   "source": []
  },
  {
   "cell_type": "markdown",
   "id": "77d40b67-3df9-40ea-a08f-f233f74664fd",
   "metadata": {},
   "source": [
    "사실 ``''' ~ '''`` 또는 ``\"\"\" ~ \"\"\"`` 는 다중 주석문을 달때도 사용됩니다.<br>\n",
    "주석문은 프로그램 명령과는 상관없습니다. 코드에 대한 설명을 할때 사용됩니다.<br>\n",
    "다음은 여러 줄로 주석을 다는 예입니다.<br>\n",
    "\n",
    "아래 입력창에 다음 코드를 작성하여 실행하고 주석문이 프로그램에 상관없음을 확인합니다.<br>\n",
    "\n",
    "```python\n",
    "'''\n",
    "This function is just to print somthing.\n",
    "parameter : str\n",
    "return : None\n",
    "'''\n",
    "def print_something(str) :\n",
    "    print(str)\n",
    "    \n",
    "print_something(\"Hello, python\")\n",
    "```"
   ]
  },
  {
   "cell_type": "code",
   "execution_count": null,
   "id": "76409aaf-5ada-4512-a6e4-609a6108a86e",
   "metadata": {},
   "outputs": [],
   "source": []
  },
  {
   "cell_type": "markdown",
   "id": "8b6cb386-8c0a-46f3-b41b-dbf475870580",
   "metadata": {},
   "source": [
    "### 이스케이프 코드 ``\\n`` 이용\n",
    "이스케이프 코드는 백슬래시(``\\``)와 함께 미리 정의된 문자를 조합하여 특별한 문자열 처리에 사용되는 코드입니다.<br>\n",
    "이스케이프 코드 ``\\n``은 ``new line``이라는 의미로, 줄을 바꿀 때 사용되는 코드입니다.<br>\n",
    "아래 입력창에 다음 코드를 작성하여 실행하고 ``\\n``의 기능을 확인합니다.<br>\n",
    "\n",
    "```python\n",
    "new_menus = \" Start game\\n Sound setting\\n Exit\"\n",
    "print(new_menus)\n",
    "```"
   ]
  },
  {
   "cell_type": "code",
   "execution_count": null,
   "id": "d0715124-2039-4429-b88e-202f45703479",
   "metadata": {},
   "outputs": [],
   "source": []
  },
  {
   "cell_type": "markdown",
   "id": "11fb9a7c-6a4c-4892-a845-2f9ddecb5fcf",
   "metadata": {},
   "source": [
    "여러 줄로 출력이 되는 것을 확인했을 겁니다.<br>\n",
    "\n",
    "참고로 몇 가지 ``이스케이프 코드``들을 살펼보겠습니다.\n",
    "\n",
    "``\\n`` : newline. 줄바꿈<br>\n",
    "``\\t`` : tab<br>\n",
    "``\\\\`` : 문자 백슬래시(``\\``)<br>\n",
    "``\\'`` : 문자 외따옴표(``'``)<br>\n",
    "``\\\"`` : 문자 쌍따옴표(``\"``)<br>\n",
    "``\\r`` : 캐리지 리턴. 현재 커서를 가장 앞으로 이동<br>\n",
    "``\\b`` : 백스페이스"
   ]
  },
  {
   "cell_type": "markdown",
   "id": "53ba8541-42b2-46ba-8a71-c0698681397f",
   "metadata": {},
   "source": [
    "## 문자열 연산"
   ]
  },
  {
   "cell_type": "markdown",
   "id": "1abacd6e-3456-464b-bdec-41e3004bb3f5",
   "metadata": {},
   "source": [
    "### 문자열 길이 구하기 - ``len()``\n",
    "len 함수는 Python 내장 함수로 문자열의 길이(문자의 갯수)를 알아내는 함수입니다.<br>\n",
    "\n",
    "아래 입력창에 다음 코드를 작성하고 실해하여 len 함수의 기능을 알아봅니다.<br>\n",
    "\n",
    "```python\n",
    "x = \"Hello world!!\"\n",
    "len(x)\n",
    "```"
   ]
  },
  {
   "cell_type": "code",
   "execution_count": null,
   "id": "4c8c8b70-fb98-4f6a-b637-50aba5840dab",
   "metadata": {
    "tags": []
   },
   "outputs": [],
   "source": []
  },
  {
   "cell_type": "markdown",
   "id": "286709e7-fb18-4e1a-8a3f-2eb0f8e54e3c",
   "metadata": {},
   "source": [
    "### 문자열 더하기(``+``) (Concatenation-문자열 연결)\n",
    "문자열 더하기(``+``)는 두 개의 문자열을 연결하는 연산자입니다.<br>\n",
    "아래 입력창에 다음 코드를 작성하고 실행하여 문자열 덧셈의 기능을 확인합니다.<br>\n",
    "\n",
    "```python\n",
    "fruit1 = \"Banana\"\n",
    "fruit2 = \"Apple\"\n",
    "fruit3 = fruit1 + \" and \" + fruit2\n",
    "print(fruit3)\n",
    "```"
   ]
  },
  {
   "cell_type": "code",
   "execution_count": null,
   "id": "97eb588b-111f-46d1-b205-3f53427c340f",
   "metadata": {},
   "outputs": [],
   "source": []
  },
  {
   "cell_type": "markdown",
   "id": "88cddc03-1679-46d3-b38d-6ddebfdb4227",
   "metadata": {},
   "source": [
    "### 문자열 곱하기(``*``) - 문자열 반복\n",
    "문자열 곱하기(``*``)는 동일한 문자열을 반복할 때 사용되는 연산자입니다.<br>\n",
    "아래 입력창에 다음 코드를 작성하고 실행하여 문자열 곱하기의 기능을 확인합니다.<br>\n",
    "\n",
    "```python\n",
    "fruit1 = \"Banana\"\n",
    "print(fruit1 * 3)\n",
    "```"
   ]
  },
  {
   "cell_type": "code",
   "execution_count": null,
   "id": "99ef3738-f0d1-45db-9117-aa18330a2f96",
   "metadata": {},
   "outputs": [],
   "source": []
  },
  {
   "cell_type": "markdown",
   "id": "fdd81fa9-c586-4109-ab50-684e5449dffc",
   "metadata": {},
   "source": [
    "## 문자열과 인덱스(index)"
   ]
  },
  {
   "cell_type": "markdown",
   "id": "deace0d3-bc01-4243-a7ff-518a852933f3",
   "metadata": {},
   "source": [
    "문자열은 일련의 연속된 문자들의 집합으로, 연속된 메모리 공간에 존재합니다.<br>\n",
    "가령 ``text = \"hello\"``라는 문자열 변수가 있을 때,<br>\n",
    "문자 ``'h'``는 ``text``변수의 첫 번째 위치에 저장되어 있고, 문자 ``'o'``는 5번쨰 위치에 저장되어 있습니다.<br>\n",
    "이와 같이 문자들은 첫 번째 위치에서 시작하여 1씩 증가하는 위치에 각각 존재하게 됩니다.<br>\n",
    "이 때 각 문자가 저장된 위치를 index라고 합니다.<br>\n",
    "Python에서는 index가 0에서 시작됩니다.<br>\n",
    "\n",
    "다음의 예를 통해 인덱스에 대해 이해해 봅시다.<br>\n",
    "\n",
    "```python\n",
    "t = \"Python programming is fun!\"\n",
    "print(t[0])  # --> P\n",
    "print(t[5])  # --> n\n",
    "t1 = t[7]\n",
    "t1           # --> 'p'\n",
    "```\n",
    "\n",
    "아래 입력창에 위의 코드를 그대로 작성하여 실행합니다."
   ]
  },
  {
   "cell_type": "code",
   "execution_count": null,
   "id": "b44dbdb4-08c7-42bb-ba43-95aee899b3dd",
   "metadata": {},
   "outputs": [],
   "source": []
  },
  {
   "cell_type": "markdown",
   "id": "37dd6e34-1d30-4199-a4a9-0220b3479210",
   "metadata": {},
   "source": [
    "## 문자열 슬라이싱(Slicing) - 중요한 부분입니다."
   ]
  },
  {
   "cell_type": "markdown",
   "id": "a202915b-b775-4d53-9956-7c41a3d2dd25",
   "metadata": {},
   "source": [
    "위에서 살펴본 바와 같이 문자열 인덱스(index)를 사용하면 문자(character)를 따로 분리하여 사용할 수 있습니다. <br>\n",
    "다만 위의 예제에서는 한 개의 문자를 뽑아서 사용했습니다. 문자 여러 개를 한번에 뽑을 수 있으면 유용할 것 같습니다.<br>\n",
    "Python에서는 문자열에서 단어나 문자를 자유롭게 추출하는 방법을 제공합니다. 이 방법을  ``슬라이싱(Slicing)``이라고 합니다.<br>\n",
    "예를 통해서 슬라이싱 방법을 알아보겠습니다.<br>"
   ]
  },
  {
   "cell_type": "markdown",
   "id": "2105a18a-5646-45e8-a444-ea0e4edac007",
   "metadata": {},
   "source": [
    "### 문자 1개씩 추출\n",
    "문자 1개씩 추출하는 방법은 위에서 이미 다룬 내용입니다.<br>\n",
    "\n",
    "아래 입력창에 다음 코드를 작성하여 실행하여 확인합니다.\n",
    "\n",
    "```python\n",
    "t = \"Python programming is fun!!\"\n",
    "t1 = t[0] + t[1] + t[2] + t[3] + t[4] + t[5]    # --> Python\n",
    "```"
   ]
  },
  {
   "cell_type": "code",
   "execution_count": null,
   "id": "88364c8c-8c8a-4d62-ac93-cd52e453cb52",
   "metadata": {},
   "outputs": [],
   "source": []
  },
  {
   "cell_type": "markdown",
   "id": "4d41cf69-9d48-4896-9772-900a9914c0d4",
   "metadata": {},
   "source": [
    "### 부분 문자열(substring) 슬라이싱\n",
    "Python에서는 문자열의 범위를 지정하여 substring을 추출할 수 있습니다.<br>\n",
    "범위 지정은 문자열 변수 뒤에 ``[start_index : end_index]`` 형태로 추가하여 지정합니다.<br>\n",
    "이 때 ``[start_index : end_index]``의 범위는  ``start_index <= 범위 < end_index`` 입니다.<br>\n",
    "가령 다음 코드에서 ``t[1:6]``의 슬라이싱 결과는 ``'ython'``입니다.<br>\n",
    "``t[1] ~ t[5]`` 까지의 문자열을 추출한 것입니다.<br>\n",
    "\n",
    "```python\n",
    "   # index\n",
    "   # 0         1         2\n",
    "   # 012345678901234567890123456\n",
    "t = \"Python programming is fun!!\"\n",
    "t[1:6]\n",
    "```"
   ]
  },
  {
   "cell_type": "code",
   "execution_count": null,
   "id": "0b928c69-0882-4c69-b688-3fb573844be8",
   "metadata": {},
   "outputs": [],
   "source": []
  },
  {
   "cell_type": "markdown",
   "id": "a26b10ad-f20e-440b-8303-a93a9350900e",
   "metadata": {},
   "source": [
    "지금까지 기본적인 슬라이싱 방법을 알아봤습니다.<br>\n",
    "이 외에도 다양한 방법들이 있습니다.<br>\n",
    "정리하자면 다음과 같습니다<br>\n",
    "\n",
    "1. ``[ : indexNum]``  : 첫 번째 위치(0)에서부터  (indexNum-1) 위치까지 추출한다.\n",
    "2. ``[indexNum :  ]`` : indexNum 위치에서부터 문자열 끝까지 추출한다.\n",
    "3. ``[ : ]`` : 처음부터 끝까지 추출한다.\n",
    "4. ``[indexNum : -num]`` : indexNum 위치에서부터 (문자열 끝 인덱스 - num) 위치까지 추출한다.\n",
    "\n",
    "아래 입력창에 다음 코들를 작성하여 실해하고 그 결과를 확인합니다.<br>\n",
    "\n",
    "```python\n",
    "t = \"Python programming is fun!!\"\n",
    "print(t[:6])\n",
    "print(t[7:])\n",
    "print(t[:])\n",
    "print(t[7:-2])\n",
    "```"
   ]
  },
  {
   "cell_type": "code",
   "execution_count": null,
   "id": "b6901cba-5305-4dac-964c-20d2622d9f5a",
   "metadata": {},
   "outputs": [],
   "source": []
  },
  {
   "cell_type": "markdown",
   "id": "eff4e710-ff37-405c-a4b2-f23642d7e214",
   "metadata": {},
   "source": [
    "**\"인덱스와 슬라이싱은 나중에 다룰 리스트, 튜플에서도 사용할 수 있습니다.\"**"
   ]
  },
  {
   "cell_type": "markdown",
   "id": "7764f655-8993-4575-a2aa-6f45d29ce1e7",
   "metadata": {},
   "source": [
    "## String은 수정불가 타입"
   ]
  },
  {
   "cell_type": "markdown",
   "id": "8d356100-f678-49a1-82c7-018034f11f0b",
   "metadata": {
    "tags": []
   },
   "source": [
    "문자열(string) 타입은 기존 값을 수정할 수 없는 수정불가(immutable) 타입입니다.<br>\n",
    "다음 코드를 아래 입력창에 작성하고 실행하여 결과를 확인합니다.<br>\n",
    "\n",
    "```python\n",
    "msg = 'Hillo, world!'\n",
    "msg[1] = 'e'\n",
    "```"
   ]
  },
  {
   "cell_type": "code",
   "execution_count": null,
   "id": "337d9512-d7e6-4b3d-816d-23d389a16479",
   "metadata": {},
   "outputs": [],
   "source": []
  },
  {
   "cell_type": "markdown",
   "id": "10d04a6b-be10-48c7-8bb9-e4b823f541a1",
   "metadata": {},
   "source": [
    "위의 코드를 실행하면 아래와 같은 오류가 발생합니다.<br>\n",
    "\n",
    "``TypeError: 'str' object does not support item assignment``<br>\n",
    "\n",
    "값 할당을 지원하지 않는다는 의미입니다. 즉, 수정을 할 수 없다는 얘기입니다.<br>\n",
    "그래서 값을 수정하려면 아래와 같이 새로운 변수에 할당하는 방법을 사용해야 합니다.<br>\n",
    "\n",
    "```python\n",
    "msg = 'Hillo, world!'\n",
    "new_msg = msg[:1] + 'e' + msg[2:]\n",
    "new_msg\n",
    "```\n",
    "\n",
    "아래 입력창에 위의 코드를 작성하여 실행결과를 확인합니다.<br>\n",
    "결과가 ``Hello, world!``라고 출력되면 성공입니다."
   ]
  },
  {
   "cell_type": "code",
   "execution_count": null,
   "id": "ce657c7c-7486-4a50-8852-6e7c3ae19bda",
   "metadata": {},
   "outputs": [],
   "source": []
  },
  {
   "cell_type": "markdown",
   "id": "e54ee0b5-5a07-4d71-8624-bdc9c131584c",
   "metadata": {},
   "source": [
    "## 문자열 처리 함수"
   ]
  },
  {
   "cell_type": "markdown",
   "id": "49e685a3-e0a4-40ce-ab6d-954ef4276349",
   "metadata": {},
   "source": [
    "문자열 타입은 자체적으로 처리하는 내장함수들을 가지고 있습니다.<br>\n",
    "문자열 처리 함수를 사용할 때에는 문자열 변수 이름 뒤에 ``.``(점 또는 dot)을 붙인 다음 함수이름을 쓰면 됩니다.<br>\n",
    "즉, ``변수명.함수명()``의 형태로 사용합니다. 이를 dot operation이라고 하는데, 클래스(class)를 다룰 때 더 자세히 설명하겠습니다.<br>\n",
    "지금은 \"이런 형태로 함수를 불러 쓰는거구나\"라고만 이해하고 넘어가도 되겠습니다.<br>"
   ]
  },
  {
   "cell_type": "markdown",
   "id": "773ad333-fa35-45d6-a3c6-844469000e97",
   "metadata": {},
   "source": [
    "### 대소문자 바꾸기 - ``lower()``,``upper()``, ``capitalize()``, ``title()``\n",
    "이번에는 영문자의 대문자와 소문자를 처리하는 함수를 알아보겠습니다.<br>\n",
    "``lower()`` 함수는 대문자를 소문자로 바꾸어 그 문자열을 리턴하는 함수입니다.<br>\n",
    "``upper()`` 함수는 소문자를 대문자로 바꾸어 그 문자열을 리턴하는 함수입니다.<br>\n",
    "``capitalize()`` 함수는 첫 번째 문자는 대문자로 나머지 문자들은 소문자로 바꾸어 그 문자열을 리턴하는 함수입니다.<br>\n",
    "``title()`` 함수는 각 단어의 첫 번째 문자는 대문자로 나머지 문자들은 소문자로 바꾸어 그 문자열을 리턴하는 함수입니다.<br>\n",
    "\n",
    "아래 입력창에 다음 코드를 작성하여 실행하고 각각의 함수의 기능을 알아봅니다.<br>\n",
    "\n",
    "```python\n",
    "school = \"Chungkang University of Cultural Industries\"\n",
    "_lower = school.lower()\n",
    "_upper = school.upper()\n",
    "_capital = school.capitalize()\n",
    "_title = school.title()\n",
    "print(_lower)\n",
    "print(_upper)\n",
    "print(_capital)\n",
    "print(_title)\n",
    "```"
   ]
  },
  {
   "cell_type": "code",
   "execution_count": null,
   "id": "a7a54eac-17c8-4561-9601-b3423d6a90a5",
   "metadata": {},
   "outputs": [],
   "source": []
  },
  {
   "cell_type": "markdown",
   "id": "8e04d0ac-b452-4924-8cdf-817a7ce2c816",
   "metadata": {},
   "source": [
    "### 부분 문자열(substring)의 개수 - ``count()``\n",
    "``count()`` 함수는 주어진 문자열에 포함된 substring의 개수를 리턴하는 함수입니다.<br>\n",
    "가령, 문자열 \"Hello everyone\"에서 'e'의 개수는 4개입니다. 'one'의 개수는 1개입니다.<br>\n",
    "이와 같이 주어진 문자열에서 찾고자 하는 substring 패턴의 개수를 리턴하는 함수가 ``count()`` 함수입니다.<br>\n",
    "\n",
    "아래 입력창에 다음 코드를 작성하여 실행하고 결과를 확인합니다.<br>\n",
    "\n",
    "```python\n",
    "text = \"Long long time ago\"\n",
    "print(\"l의 개수 : \", text.count(\"l\"))\n",
    "print(\"ng의 개수 : \", text.count(\"ng\"))\n",
    "```"
   ]
  },
  {
   "cell_type": "code",
   "execution_count": null,
   "id": "0f1c3734-545c-4b37-b4ea-79338b8f2e93",
   "metadata": {
    "tags": []
   },
   "outputs": [],
   "source": []
  },
  {
   "cell_type": "markdown",
   "id": "b93d3db4-6eee-4f50-8d22-bc2007835d8e",
   "metadata": {},
   "source": [
    "### 공백 지우기 - ``lstrip()``, ``rstrip()``, ``strip()``\n",
    "문자열에서 공백을 지우는 내장함수는 다음과 같습니다.<br>\n",
    "\n",
    "``lstrip()`` : 문자열 중 가장 왼쪽의 모든 공백을 지우고 그 결과를 리턴합니다.<br>\n",
    "``rstrip()`` : 문자열 중 가장 오른쪽의 모든 공백을 지우고 그 결과를 리턴합니다.<br>\n",
    "``strip()`` : 문자열 왼쪽과 오른쪽 양쪽의 모든 공백을 지우고 그 결과를 리턴합니다.<br>\n",
    "\n",
    "아래 입력창에 다음 코드를 작성하여 실행하고 결과를 확인합니다.<br>\n",
    "\n",
    "```python\n",
    "text = \"   Hello, world!!   \"\n",
    "text.lstrip()\n",
    "```\n",
    "왼쪽에 있는 공백들이 모두 지워진 것을 확인합니다.<br>"
   ]
  },
  {
   "cell_type": "code",
   "execution_count": null,
   "id": "285d8aa2-f57d-4f34-aaac-fd2ddc0f1616",
   "metadata": {},
   "outputs": [],
   "source": []
  },
  {
   "cell_type": "markdown",
   "id": "1f9ade87-eb1b-4a1b-8ec2-c5a1785789a4",
   "metadata": {},
   "source": [
    "아래 입력창에 다음 코드를 작성하여 실행하고 결과를 확인합니다.<br>\n",
    "``` python\n",
    "text = \"   Hello, world!!   \"\n",
    "text.rstrip()\n",
    "```\n",
    "오른쪽에 있는 공백들이 모두 지워진 것을 확인합니다."
   ]
  },
  {
   "cell_type": "code",
   "execution_count": null,
   "id": "e8001b03-4fb4-415f-9e72-a1dc0ab07e20",
   "metadata": {},
   "outputs": [],
   "source": []
  },
  {
   "cell_type": "markdown",
   "id": "e920a0e5-037e-4299-a5cb-c320058df119",
   "metadata": {},
   "source": [
    "아래 입력창에 다음 코드를 작성하여 실행하고 결과를 확인합니다.<br>\n",
    "```python\n",
    "text = \"   Hello, world!!   \"\n",
    "text.strip()\n",
    "```\n",
    "왼쪽과 오른쪽의 공백들이 모두 지워진 것을 확인합니다."
   ]
  },
  {
   "cell_type": "code",
   "execution_count": null,
   "id": "a3ffc8d9-fa74-4b5b-88d6-58d159dd46bb",
   "metadata": {},
   "outputs": [],
   "source": []
  },
  {
   "cell_type": "markdown",
   "id": "8412f98a-1fa1-4749-a00e-e280b506d266",
   "metadata": {},
   "source": [
    "### 문자열 바꾸기 - ``replace()``\n",
    "\n",
    "``replace(source, target)`` source 문자열을 target 문자열로 치환하는 함수입니다.<br>\n",
    "아래 코드는 변수 text에 있는 문자열 중 \"Hong\"을 \"Kim\"으로 바꾸어 그 결과를 변수 t1에 저장하는 코드입니다.<br>\n",
    "\n",
    "아래 입력창에 다음 코드를 작성하여 실행합니다. 그리고 결과를 확인합니다.<br>\n",
    "\n",
    "```python\n",
    "text = \"My name is Hong\"\n",
    "t1 = text.replace(\"Hong\", \"Kim\")\n",
    "print(t1)\n",
    "```"
   ]
  },
  {
   "cell_type": "code",
   "execution_count": null,
   "id": "fbad9b99-a9c8-4f22-afde-97b847dc2f49",
   "metadata": {},
   "outputs": [],
   "source": []
  },
  {
   "cell_type": "markdown",
   "id": "efba7bff-b5e5-491d-a454-146d72c47a29",
   "metadata": {},
   "source": [
    "### substring의 위치 찾기 - ``find()``\n",
    "``find()`` 함수는 주어진 문자열에서 substring의 첫 번째 위치를 찾아주는 함수입니다.<br>\n",
    "다음 예제를 실행시켜서 알아보겠습니다.<br>\n",
    "\n",
    "```python\n",
    "fruit = 'banana'\n",
    "index1 = fruit.find('a')\n",
    "print(index1)\n",
    "index2 = fruit.find('na')\n",
    "print(index2)\n",
    "```\n",
    "아래 입력창에 위 코드를 작성하여 테스트합니다.<br>"
   ]
  },
  {
   "cell_type": "code",
   "execution_count": null,
   "id": "e691d4d2-4986-4130-960f-6db924b80e11",
   "metadata": {},
   "outputs": [],
   "source": []
  },
  {
   "cell_type": "markdown",
   "id": "6376c24c-249b-45ea-be06-0d14f410b40d",
   "metadata": {},
   "source": [
    "### 문자열 나누기 - ``split()``\n",
    "``split()`` 함수는  스페이스, 탭, 또는 특수문자를 기준으로 문자열을 분리해 주는 함수입니다.<br>\n",
    "\n",
    "다음 예제를 통해 ``split()`` 함수의 기능을 알아봅니다.<br>\n",
    "\n",
    "**1. 공백 기준으로 나누기**\n",
    "```python\n",
    "text1 = 'Hello, world'\n",
    "text1.split()\n",
    "```\n",
    "**2. 특정값을 기준으로 나누기**\n",
    "```python\n",
    "fruits = 'apple, orange, grape'\n",
    "fruits.split(',')\n",
    "```\n",
    "\n",
    "아래 입력창에 위의 코드를 입력하여 결과를 확인합니다.<br>\n",
    "1번의 결과는 ``['Hello,', 'world']``이고,<br>\n",
    "2번의 결과는 ``['apple', ' orange', ' grage']``이 나오는 것을 확인할 수 있습니다."
   ]
  },
  {
   "cell_type": "code",
   "execution_count": null,
   "id": "59790a7e-8f55-417b-9625-4d47ef682211",
   "metadata": {},
   "outputs": [],
   "source": []
  },
  {
   "cell_type": "markdown",
   "id": "d61aaec4-bca7-4625-8c05-622ecdb961fb",
   "metadata": {},
   "source": [
    "## ``in`` 연산자"
   ]
  },
  {
   "cell_type": "markdown",
   "id": "863192a1-7faa-4bb6-993c-49969d159191",
   "metadata": {},
   "source": [
    "Python에서는 문자열 내에 substring이 존재하는지를 검사하는 편리한 연산자가 있습니다.<br>\n",
    "``in`` 연산자가 그것입니다.<br>\n",
    "``in`` 연산자는 ``boolean`` 연산자입니다. 즉, ``in`` 연산의 결과는 ``True`` 또는 ``False``입니다.<br>\n",
    "사용 방법은 다음과 같습니다.<br>\n",
    "\n",
    "```python\n",
    "'o' in 'hello'\n",
    "```\n",
    "이 코드는 ``hello`` 문자열 내에 ``o`` 문자가 있으면 ``True``를 반환하고, 그렇지 않으면 ``False``를 반환합니다.<br>\n",
    "위 코드의 결과는 `True`가 출력됩니다.<br>\n",
    "아래 입력창에 위 코드를 작성하여 ``True``가 출력되는지 확인합니다."
   ]
  },
  {
   "cell_type": "code",
   "execution_count": null,
   "id": "90f36f72-381f-4da7-b942-744608127460",
   "metadata": {},
   "outputs": [],
   "source": []
  },
  {
   "cell_type": "markdown",
   "id": "822759fd",
   "metadata": {},
   "source": [
    "***"
   ]
  },
  {
   "cell_type": "markdown",
   "id": "851d6c8b-59e9-4ba7-aa86-0f81eaad1344",
   "metadata": {},
   "source": [
    "# Lab"
   ]
  },
  {
   "cell_type": "markdown",
   "id": "2b0f3a10-97e8-4388-a9a7-c17c08c32834",
   "metadata": {},
   "source": [
    "## 문자열 슬라이싱"
   ]
  },
  {
   "cell_type": "markdown",
   "id": "761eed84-69ba-4002-8b10-81afdfa160f5",
   "metadata": {},
   "source": [
    "다음과 같이 날짜와 날씨로 이루어진 문자열이 주어졌습니다.<br>\n",
    "문자열 슬라이싱을 이용하여 년도와 월일, 그리고 날짜를 각각 추출하여 출력합니다.\n",
    "\n",
    "```python\n",
    "data = \"20220325Sunny\"\n",
    "```\n",
    "\n",
    "추출한 데이터는 다음 변수에 저장합니다.<br>\n",
    "\n",
    "```python\n",
    "year\n",
    "day\n",
    "weather\n",
    "```\n",
    "\n",
    "아래 입력창에 코드를 작성합니다."
   ]
  },
  {
   "cell_type": "code",
   "execution_count": null,
   "id": "d0615e14-d4c7-40ab-ab51-a740d0fbc41c",
   "metadata": {},
   "outputs": [],
   "source": []
  },
  {
   "cell_type": "markdown",
   "id": "021ae84d-80a8-40e8-b748-eb26b745a540",
   "metadata": {},
   "source": [
    "**[자가진단 1]본인이 만든 프로그램이 제대로 동작되는지 확인합니다.**<br>\n",
    "아래 입력창을 수정하지 않고 실행하여 그 결과가 다음과 같이 나온다면 제대로 작성한 것입니다.<br>\n",
    "\n",
    "2022<br>\n",
    "0325<br>\n",
    "Sunny<br>\n",
    "\n",
    "그렇지 않다면 위의 코드를 수정하여 에러가 없도록 작성합니다."
   ]
  },
  {
   "cell_type": "code",
   "execution_count": null,
   "id": "5a3ef706-588c-48a3-b775-9138c3a8807d",
   "metadata": {},
   "outputs": [],
   "source": [
    "print(year)\n",
    "print(day)\n",
    "print(weather)"
   ]
  },
  {
   "cell_type": "markdown",
   "id": "93c42fef-f914-4b81-b070-5722b9fcc213",
   "metadata": {},
   "source": [
    "**[자가긴단 2] 본인이 만든 프로그램이 제대로 동작되는지 확인합니다.**<br>\n",
    "아래 입력창을 수정하지 않고 실행해서 아무런 반응이 없으면 제대로 작성한 것입니다.<br>\n",
    "만약 에러화면이 나타나면 위의 코드를 수정하여 에러가 없도록 작성합니다."
   ]
  },
  {
   "cell_type": "code",
   "execution_count": null,
   "id": "61e76f49-be91-415b-b203-8f26e54b30a3",
   "metadata": {},
   "outputs": [],
   "source": [
    "assert year == '2022'\n",
    "assert day == '0325'\n",
    "assert weather == 'Sunny'"
   ]
  },
  {
   "cell_type": "markdown",
   "id": "27f92fdc-1e69-498b-a656-b4148b18633a",
   "metadata": {},
   "source": [
    "## 문자열 바꾸기"
   ]
  },
  {
   "cell_type": "markdown",
   "id": "4de8ad32-bf30-42e3-a64c-1be8db2998ce",
   "metadata": {},
   "source": [
    "다음과 같이 문자열 ``\"apple:orage:banana\"``가 있을 때, 이를 ``\"apple,orage,banana\"``로 바꾸어 출력합니다.<br>\n",
    "\n",
    "```python\n",
    "fruits = \"apple:orage:banana\"\n",
    "\n",
    "바꾼 문자열은 new_fruits 변수에 저장합니다.\n",
    "```\n",
    "아래 입력창에 코드를 작성합니다.<br>"
   ]
  },
  {
   "cell_type": "code",
   "execution_count": null,
   "id": "32d5f36a-58a2-48b8-b79b-b45efcad65c4",
   "metadata": {},
   "outputs": [],
   "source": []
  },
  {
   "cell_type": "markdown",
   "id": "e54bf954-b0b9-46f4-9bee-1a0bbf38b2b0",
   "metadata": {},
   "source": [
    "**[자가긴단] 본인이 만든 프로그램이 제대로 동작되는지 확인합니다.**<br>\n",
    "아래 입력창을 수정하지 않고 실행해서 아무런 반응이 없으면 제대로 작성한 것입니다.<br>\n",
    "만약 에러화면이 나타나면 위의 코드를 수정하여 에러가 없도록 작성합니다."
   ]
  },
  {
   "cell_type": "code",
   "execution_count": null,
   "id": "67678444-0518-4638-9480-b0c72e3da264",
   "metadata": {},
   "outputs": [],
   "source": [
    "assert new_fruits == \"apple,orage,banana\""
   ]
  },
  {
   "cell_type": "markdown",
   "id": "74b80d64-117e-4a0a-8e84-1350d5425380",
   "metadata": {},
   "source": [
    "## ``in`` 연산자 활용"
   ]
  },
  {
   "cell_type": "markdown",
   "id": "bf5e5d1e-0426-407d-b75e-79c76eccf829",
   "metadata": {},
   "source": [
    "문자열 내에 ``\"app\"``이라는 문자열이 있으면 ``True``, 없으면 ``False``를 리턴하는 함수를 작성합니다.<br>\n",
    "문자열은 파라미터로 전달되며, 함수의 이름은 ``checkApp()``으로 합니다.<br>\n",
    "\n",
    "아래 입력창에 함수를 구현합니다."
   ]
  },
  {
   "cell_type": "code",
   "execution_count": null,
   "id": "836f9c50-5f75-44b6-94c1-5dedf78fe484",
   "metadata": {},
   "outputs": [],
   "source": []
  },
  {
   "cell_type": "markdown",
   "id": "e3f81708-8a7d-4b06-a591-1037ffd2fb4a",
   "metadata": {},
   "source": [
    "**[자가진단 1]본인이 만든 프로그램이 제대로 동작되는지 확인합니다.**<br>\n",
    "아래 입력창을 수정하지 않고 실행하여 그 결과가 ``True``가 나온다면 제대로 작성한 것입니다.<br>\n",
    "그렇지 않다면 ``checkApp()``함수를 수정하여 에러가 없도록 작성합니다.<br>"
   ]
  },
  {
   "cell_type": "code",
   "execution_count": null,
   "id": "9d093ea7-c892-4b62-946a-2a85c0cbc9f8",
   "metadata": {},
   "outputs": [],
   "source": [
    "print(checkApp(\"application\"))\n",
    "print(checkApp(\"app game\"))"
   ]
  },
  {
   "cell_type": "markdown",
   "id": "2d80c466-1f37-4021-bac4-dd81129f54f2",
   "metadata": {},
   "source": [
    "**[자가긴단 2] 본인이 만든 프로그램이 제대로 동작되는지 확인합니다.**<br>\n",
    "아래 입력창을 수정하지 않고 실행해서 아무런 반응이 없으면 제대로 작성한 것입니다.<br>\n",
    "만약 에러화면이 나타나면 ``checkApp()`` 함수를 수정하여 에러가 없도록 작성합니다."
   ]
  },
  {
   "cell_type": "code",
   "execution_count": null,
   "id": "ee2931ae-6a80-4464-99ec-8ef1aa0f39ae",
   "metadata": {},
   "outputs": [],
   "source": [
    "assert checkApp(\"test\") == False\n",
    "assert checkApp(\"apple computer\") == True"
   ]
  }
 ],
 "metadata": {
  "kernelspec": {
   "display_name": "Python 3.9.10 64-bit",
   "language": "python",
   "name": "python3"
  },
  "language_info": {
   "codemirror_mode": {
    "name": "ipython",
    "version": 3
   },
   "file_extension": ".py",
   "mimetype": "text/x-python",
   "name": "python",
   "nbconvert_exporter": "python",
   "pygments_lexer": "ipython3",
   "version": "3.9.10"
  },
  "vscode": {
   "interpreter": {
    "hash": "82ed002fa2d4956f5c6aec99bcefe0f73a9f79882f3c9e2319b14958a5896ac5"
   }
  }
 },
 "nbformat": 4,
 "nbformat_minor": 5
}
